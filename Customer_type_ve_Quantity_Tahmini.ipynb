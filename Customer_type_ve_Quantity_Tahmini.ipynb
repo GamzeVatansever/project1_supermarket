{
 "cells": [
  {
   "cell_type": "code",
   "execution_count": 1,
   "id": "8fe31c34",
   "metadata": {},
   "outputs": [],
   "source": [
    "import pandas as pd\n",
    "from pandas import read_csv\n",
    "file = 'C:\\\\Users\\\\vatan_2i0ol45\\\\Desktop\\\\Gamze\\\\Supermarket-Sales-Stock.csv'\n",
    "df = read_csv(file)\n"
   ]
  },
  {
   "cell_type": "code",
   "execution_count": 2,
   "id": "0f75e912",
   "metadata": {},
   "outputs": [],
   "source": [
    "import numpy\n",
    "import matplotlib.pyplot as plt\n",
    "import seaborn as sn"
   ]
  },
  {
   "cell_type": "code",
   "execution_count": 3,
   "id": "649b29ec",
   "metadata": {},
   "outputs": [],
   "source": [
    "from sklearn.preprocessing import LabelEncoder\n",
    "\n",
    "from sklearn.preprocessing import StandardScaler\n",
    "\n",
    "from sklearn.model_selection import train_test_split\n",
    "\n",
    "from sklearn.metrics import recall_score\n"
   ]
  },
  {
   "cell_type": "code",
   "execution_count": 4,
   "id": "3bc17184",
   "metadata": {},
   "outputs": [
    {
     "data": {
      "text/html": [
       "<div>\n",
       "<style scoped>\n",
       "    .dataframe tbody tr th:only-of-type {\n",
       "        vertical-align: middle;\n",
       "    }\n",
       "\n",
       "    .dataframe tbody tr th {\n",
       "        vertical-align: top;\n",
       "    }\n",
       "\n",
       "    .dataframe thead th {\n",
       "        text-align: right;\n",
       "    }\n",
       "</style>\n",
       "<table border=\"1\" class=\"dataframe\">\n",
       "  <thead>\n",
       "    <tr style=\"text-align: right;\">\n",
       "      <th></th>\n",
       "      <th>Invoice ID</th>\n",
       "      <th>Branch</th>\n",
       "      <th>City</th>\n",
       "      <th>Customer type</th>\n",
       "      <th>Gender</th>\n",
       "      <th>Product line</th>\n",
       "      <th>Unit price</th>\n",
       "      <th>Quantity</th>\n",
       "      <th>Tax 5%</th>\n",
       "      <th>Total</th>\n",
       "      <th>Date</th>\n",
       "      <th>Time</th>\n",
       "      <th>Payment</th>\n",
       "      <th>COGS</th>\n",
       "      <th>Gross Margin Precentage</th>\n",
       "      <th>Gross Income</th>\n",
       "      <th>Rating</th>\n",
       "    </tr>\n",
       "  </thead>\n",
       "  <tbody>\n",
       "    <tr>\n",
       "      <th>0</th>\n",
       "      <td>765-26-6951</td>\n",
       "      <td>A</td>\n",
       "      <td>Yangon</td>\n",
       "      <td>Normal</td>\n",
       "      <td>Male</td>\n",
       "      <td>Sports and travel</td>\n",
       "      <td>72.61</td>\n",
       "      <td>6</td>\n",
       "      <td>21.783</td>\n",
       "      <td>457.443</td>\n",
       "      <td>1/1/2019</td>\n",
       "      <td>10:39</td>\n",
       "      <td>Credit card</td>\n",
       "      <td>435.66</td>\n",
       "      <td>4.761905</td>\n",
       "      <td>21.783</td>\n",
       "      <td>6.9</td>\n",
       "    </tr>\n",
       "    <tr>\n",
       "      <th>1</th>\n",
       "      <td>530-90-9855</td>\n",
       "      <td>A</td>\n",
       "      <td>Yangon</td>\n",
       "      <td>Member</td>\n",
       "      <td>Male</td>\n",
       "      <td>Home and lifestyle</td>\n",
       "      <td>47.59</td>\n",
       "      <td>8</td>\n",
       "      <td>19.036</td>\n",
       "      <td>399.756</td>\n",
       "      <td>1/1/2019</td>\n",
       "      <td>14:47</td>\n",
       "      <td>Cash</td>\n",
       "      <td>380.72</td>\n",
       "      <td>4.761905</td>\n",
       "      <td>19.036</td>\n",
       "      <td>5.7</td>\n",
       "    </tr>\n",
       "    <tr>\n",
       "      <th>2</th>\n",
       "      <td>891-01-7034</td>\n",
       "      <td>B</td>\n",
       "      <td>Mandalay</td>\n",
       "      <td>Normal</td>\n",
       "      <td>Female</td>\n",
       "      <td>Electronic accessories</td>\n",
       "      <td>74.71</td>\n",
       "      <td>6</td>\n",
       "      <td>22.413</td>\n",
       "      <td>470.673</td>\n",
       "      <td>1/1/2019</td>\n",
       "      <td>19:07</td>\n",
       "      <td>Cash</td>\n",
       "      <td>448.26</td>\n",
       "      <td>4.761905</td>\n",
       "      <td>22.413</td>\n",
       "      <td>6.7</td>\n",
       "    </tr>\n",
       "    <tr>\n",
       "      <th>3</th>\n",
       "      <td>493-65-6248</td>\n",
       "      <td>C</td>\n",
       "      <td>Naypyitaw</td>\n",
       "      <td>Member</td>\n",
       "      <td>Female</td>\n",
       "      <td>Sports and travel</td>\n",
       "      <td>36.98</td>\n",
       "      <td>10</td>\n",
       "      <td>18.490</td>\n",
       "      <td>388.290</td>\n",
       "      <td>1/1/2019</td>\n",
       "      <td>19:48</td>\n",
       "      <td>Credit card</td>\n",
       "      <td>369.80</td>\n",
       "      <td>4.761905</td>\n",
       "      <td>18.490</td>\n",
       "      <td>7.0</td>\n",
       "    </tr>\n",
       "    <tr>\n",
       "      <th>4</th>\n",
       "      <td>556-97-7101</td>\n",
       "      <td>C</td>\n",
       "      <td>Naypyitaw</td>\n",
       "      <td>Normal</td>\n",
       "      <td>Female</td>\n",
       "      <td>Electronic accessories</td>\n",
       "      <td>63.22</td>\n",
       "      <td>2</td>\n",
       "      <td>6.322</td>\n",
       "      <td>132.762</td>\n",
       "      <td>1/1/2019</td>\n",
       "      <td>15:51</td>\n",
       "      <td>Cash</td>\n",
       "      <td>126.44</td>\n",
       "      <td>4.761905</td>\n",
       "      <td>6.322</td>\n",
       "      <td>8.5</td>\n",
       "    </tr>\n",
       "  </tbody>\n",
       "</table>\n",
       "</div>"
      ],
      "text/plain": [
       "    Invoice ID Branch       City Customer type  Gender  \\\n",
       "0  765-26-6951      A     Yangon        Normal    Male   \n",
       "1  530-90-9855      A     Yangon        Member    Male   \n",
       "2  891-01-7034      B   Mandalay        Normal  Female   \n",
       "3  493-65-6248      C  Naypyitaw        Member  Female   \n",
       "4  556-97-7101      C  Naypyitaw        Normal  Female   \n",
       "\n",
       "             Product line  Unit price  Quantity  Tax 5%    Total      Date  \\\n",
       "0       Sports and travel       72.61         6  21.783  457.443  1/1/2019   \n",
       "1      Home and lifestyle       47.59         8  19.036  399.756  1/1/2019   \n",
       "2  Electronic accessories       74.71         6  22.413  470.673  1/1/2019   \n",
       "3       Sports and travel       36.98        10  18.490  388.290  1/1/2019   \n",
       "4  Electronic accessories       63.22         2   6.322  132.762  1/1/2019   \n",
       "\n",
       "    Time      Payment    COGS  Gross Margin Precentage  Gross Income  Rating  \n",
       "0  10:39  Credit card  435.66                 4.761905        21.783     6.9  \n",
       "1  14:47         Cash  380.72                 4.761905        19.036     5.7  \n",
       "2  19:07         Cash  448.26                 4.761905        22.413     6.7  \n",
       "3  19:48  Credit card  369.80                 4.761905        18.490     7.0  \n",
       "4  15:51         Cash  126.44                 4.761905         6.322     8.5  "
      ]
     },
     "execution_count": 4,
     "metadata": {},
     "output_type": "execute_result"
    }
   ],
   "source": [
    "df.head()"
   ]
  },
  {
   "cell_type": "code",
   "execution_count": null,
   "id": "18d980af",
   "metadata": {},
   "outputs": [],
   "source": []
  },
  {
   "cell_type": "code",
   "execution_count": null,
   "id": "6b44692b",
   "metadata": {},
   "outputs": [],
   "source": []
  },
  {
   "cell_type": "code",
   "execution_count": 5,
   "id": "c5115e93",
   "metadata": {},
   "outputs": [],
   "source": [
    "input1=df.iloc[:,5]\n",
    "input3=df.iloc[:,1]\n",
    "input4=df.iloc[:,-5]\n"
   ]
  },
  {
   "cell_type": "code",
   "execution_count": 6,
   "id": "03b60cee",
   "metadata": {},
   "outputs": [
    {
     "data": {
      "text/html": [
       "<div>\n",
       "<style scoped>\n",
       "    .dataframe tbody tr th:only-of-type {\n",
       "        vertical-align: middle;\n",
       "    }\n",
       "\n",
       "    .dataframe tbody tr th {\n",
       "        vertical-align: top;\n",
       "    }\n",
       "\n",
       "    .dataframe thead th {\n",
       "        text-align: right;\n",
       "    }\n",
       "</style>\n",
       "<table border=\"1\" class=\"dataframe\">\n",
       "  <thead>\n",
       "    <tr style=\"text-align: right;\">\n",
       "      <th></th>\n",
       "      <th>Product line</th>\n",
       "      <th>Branch</th>\n",
       "      <th>Payment</th>\n",
       "    </tr>\n",
       "  </thead>\n",
       "  <tbody>\n",
       "    <tr>\n",
       "      <th>0</th>\n",
       "      <td>Sports and travel</td>\n",
       "      <td>A</td>\n",
       "      <td>Credit card</td>\n",
       "    </tr>\n",
       "    <tr>\n",
       "      <th>1</th>\n",
       "      <td>Home and lifestyle</td>\n",
       "      <td>A</td>\n",
       "      <td>Cash</td>\n",
       "    </tr>\n",
       "    <tr>\n",
       "      <th>2</th>\n",
       "      <td>Electronic accessories</td>\n",
       "      <td>B</td>\n",
       "      <td>Cash</td>\n",
       "    </tr>\n",
       "    <tr>\n",
       "      <th>3</th>\n",
       "      <td>Sports and travel</td>\n",
       "      <td>C</td>\n",
       "      <td>Credit card</td>\n",
       "    </tr>\n",
       "    <tr>\n",
       "      <th>4</th>\n",
       "      <td>Electronic accessories</td>\n",
       "      <td>C</td>\n",
       "      <td>Cash</td>\n",
       "    </tr>\n",
       "  </tbody>\n",
       "</table>\n",
       "</div>"
      ],
      "text/plain": [
       "             Product line Branch      Payment\n",
       "0       Sports and travel      A  Credit card\n",
       "1      Home and lifestyle      A         Cash\n",
       "2  Electronic accessories      B         Cash\n",
       "3       Sports and travel      C  Credit card\n",
       "4  Electronic accessories      C         Cash"
      ]
     },
     "execution_count": 6,
     "metadata": {},
     "output_type": "execute_result"
    }
   ],
   "source": [
    "input2= pd.concat([input1, input3, input4], axis=1)\n",
    "\n",
    "input2.head()"
   ]
  },
  {
   "cell_type": "code",
   "execution_count": 7,
   "id": "04a29b74",
   "metadata": {},
   "outputs": [
    {
     "data": {
      "text/html": [
       "<div>\n",
       "<style scoped>\n",
       "    .dataframe tbody tr th:only-of-type {\n",
       "        vertical-align: middle;\n",
       "    }\n",
       "\n",
       "    .dataframe tbody tr th {\n",
       "        vertical-align: top;\n",
       "    }\n",
       "\n",
       "    .dataframe thead th {\n",
       "        text-align: right;\n",
       "    }\n",
       "</style>\n",
       "<table border=\"1\" class=\"dataframe\">\n",
       "  <thead>\n",
       "    <tr style=\"text-align: right;\">\n",
       "      <th></th>\n",
       "      <th>x0_Electronic accessories</th>\n",
       "      <th>x0_Fashion accessories</th>\n",
       "      <th>x0_Food and beverages</th>\n",
       "      <th>x0_Health and beauty</th>\n",
       "      <th>x0_Home and lifestyle</th>\n",
       "      <th>x0_Sports and travel</th>\n",
       "      <th>x1_A</th>\n",
       "      <th>x1_B</th>\n",
       "      <th>x1_C</th>\n",
       "      <th>x2_Cash</th>\n",
       "      <th>x2_Credit card</th>\n",
       "      <th>x2_Ewallet</th>\n",
       "    </tr>\n",
       "  </thead>\n",
       "  <tbody>\n",
       "    <tr>\n",
       "      <th>0</th>\n",
       "      <td>0.0</td>\n",
       "      <td>0.0</td>\n",
       "      <td>0.0</td>\n",
       "      <td>0.0</td>\n",
       "      <td>0.0</td>\n",
       "      <td>1.0</td>\n",
       "      <td>1.0</td>\n",
       "      <td>0.0</td>\n",
       "      <td>0.0</td>\n",
       "      <td>0.0</td>\n",
       "      <td>1.0</td>\n",
       "      <td>0.0</td>\n",
       "    </tr>\n",
       "    <tr>\n",
       "      <th>1</th>\n",
       "      <td>0.0</td>\n",
       "      <td>0.0</td>\n",
       "      <td>0.0</td>\n",
       "      <td>0.0</td>\n",
       "      <td>1.0</td>\n",
       "      <td>0.0</td>\n",
       "      <td>1.0</td>\n",
       "      <td>0.0</td>\n",
       "      <td>0.0</td>\n",
       "      <td>1.0</td>\n",
       "      <td>0.0</td>\n",
       "      <td>0.0</td>\n",
       "    </tr>\n",
       "    <tr>\n",
       "      <th>2</th>\n",
       "      <td>1.0</td>\n",
       "      <td>0.0</td>\n",
       "      <td>0.0</td>\n",
       "      <td>0.0</td>\n",
       "      <td>0.0</td>\n",
       "      <td>0.0</td>\n",
       "      <td>0.0</td>\n",
       "      <td>1.0</td>\n",
       "      <td>0.0</td>\n",
       "      <td>1.0</td>\n",
       "      <td>0.0</td>\n",
       "      <td>0.0</td>\n",
       "    </tr>\n",
       "    <tr>\n",
       "      <th>3</th>\n",
       "      <td>0.0</td>\n",
       "      <td>0.0</td>\n",
       "      <td>0.0</td>\n",
       "      <td>0.0</td>\n",
       "      <td>0.0</td>\n",
       "      <td>1.0</td>\n",
       "      <td>0.0</td>\n",
       "      <td>0.0</td>\n",
       "      <td>1.0</td>\n",
       "      <td>0.0</td>\n",
       "      <td>1.0</td>\n",
       "      <td>0.0</td>\n",
       "    </tr>\n",
       "    <tr>\n",
       "      <th>4</th>\n",
       "      <td>1.0</td>\n",
       "      <td>0.0</td>\n",
       "      <td>0.0</td>\n",
       "      <td>0.0</td>\n",
       "      <td>0.0</td>\n",
       "      <td>0.0</td>\n",
       "      <td>0.0</td>\n",
       "      <td>0.0</td>\n",
       "      <td>1.0</td>\n",
       "      <td>1.0</td>\n",
       "      <td>0.0</td>\n",
       "      <td>0.0</td>\n",
       "    </tr>\n",
       "  </tbody>\n",
       "</table>\n",
       "</div>"
      ],
      "text/plain": [
       "   x0_Electronic accessories  x0_Fashion accessories  x0_Food and beverages  \\\n",
       "0                        0.0                     0.0                    0.0   \n",
       "1                        0.0                     0.0                    0.0   \n",
       "2                        1.0                     0.0                    0.0   \n",
       "3                        0.0                     0.0                    0.0   \n",
       "4                        1.0                     0.0                    0.0   \n",
       "\n",
       "   x0_Health and beauty  x0_Home and lifestyle  x0_Sports and travel  x1_A  \\\n",
       "0                   0.0                    0.0                   1.0   1.0   \n",
       "1                   0.0                    1.0                   0.0   1.0   \n",
       "2                   0.0                    0.0                   0.0   0.0   \n",
       "3                   0.0                    0.0                   1.0   0.0   \n",
       "4                   0.0                    0.0                   0.0   0.0   \n",
       "\n",
       "   x1_B  x1_C  x2_Cash  x2_Credit card  x2_Ewallet  \n",
       "0   0.0   0.0      0.0             1.0         0.0  \n",
       "1   0.0   0.0      1.0             0.0         0.0  \n",
       "2   1.0   0.0      1.0             0.0         0.0  \n",
       "3   0.0   1.0      0.0             1.0         0.0  \n",
       "4   0.0   1.0      1.0             0.0         0.0  "
      ]
     },
     "execution_count": 7,
     "metadata": {},
     "output_type": "execute_result"
    }
   ],
   "source": [
    "from sklearn.preprocessing import OneHotEncoder\n",
    "ohe = OneHotEncoder()\n",
    "ohe.fit(input2)\n",
    "feature_names=ohe.get_feature_names()\n",
    "input5= pd.DataFrame(ohe.fit_transform(input2).toarray(), columns=feature_names)\n",
    "\n",
    "input5.head()"
   ]
  },
  {
   "cell_type": "code",
   "execution_count": 8,
   "id": "8f140a1b",
   "metadata": {},
   "outputs": [
    {
     "data": {
      "text/html": [
       "<div>\n",
       "<style scoped>\n",
       "    .dataframe tbody tr th:only-of-type {\n",
       "        vertical-align: middle;\n",
       "    }\n",
       "\n",
       "    .dataframe tbody tr th {\n",
       "        vertical-align: top;\n",
       "    }\n",
       "\n",
       "    .dataframe thead th {\n",
       "        text-align: right;\n",
       "    }\n",
       "</style>\n",
       "<table border=\"1\" class=\"dataframe\">\n",
       "  <thead>\n",
       "    <tr style=\"text-align: right;\">\n",
       "      <th></th>\n",
       "      <th>Invoice ID</th>\n",
       "      <th>Branch</th>\n",
       "      <th>City</th>\n",
       "      <th>Customer type</th>\n",
       "      <th>Gender</th>\n",
       "      <th>Product line</th>\n",
       "      <th>Unit price</th>\n",
       "      <th>Quantity</th>\n",
       "      <th>Tax 5%</th>\n",
       "      <th>Total</th>\n",
       "      <th>...</th>\n",
       "      <th>x0_Food and beverages</th>\n",
       "      <th>x0_Health and beauty</th>\n",
       "      <th>x0_Home and lifestyle</th>\n",
       "      <th>x0_Sports and travel</th>\n",
       "      <th>x1_A</th>\n",
       "      <th>x1_B</th>\n",
       "      <th>x1_C</th>\n",
       "      <th>x2_Cash</th>\n",
       "      <th>x2_Credit card</th>\n",
       "      <th>x2_Ewallet</th>\n",
       "    </tr>\n",
       "  </thead>\n",
       "  <tbody>\n",
       "    <tr>\n",
       "      <th>0</th>\n",
       "      <td>765-26-6951</td>\n",
       "      <td>A</td>\n",
       "      <td>Yangon</td>\n",
       "      <td>Normal</td>\n",
       "      <td>Male</td>\n",
       "      <td>Sports and travel</td>\n",
       "      <td>72.61</td>\n",
       "      <td>6</td>\n",
       "      <td>21.783</td>\n",
       "      <td>457.443</td>\n",
       "      <td>...</td>\n",
       "      <td>0.0</td>\n",
       "      <td>0.0</td>\n",
       "      <td>0.0</td>\n",
       "      <td>1.0</td>\n",
       "      <td>1.0</td>\n",
       "      <td>0.0</td>\n",
       "      <td>0.0</td>\n",
       "      <td>0.0</td>\n",
       "      <td>1.0</td>\n",
       "      <td>0.0</td>\n",
       "    </tr>\n",
       "    <tr>\n",
       "      <th>1</th>\n",
       "      <td>530-90-9855</td>\n",
       "      <td>A</td>\n",
       "      <td>Yangon</td>\n",
       "      <td>Member</td>\n",
       "      <td>Male</td>\n",
       "      <td>Home and lifestyle</td>\n",
       "      <td>47.59</td>\n",
       "      <td>8</td>\n",
       "      <td>19.036</td>\n",
       "      <td>399.756</td>\n",
       "      <td>...</td>\n",
       "      <td>0.0</td>\n",
       "      <td>0.0</td>\n",
       "      <td>1.0</td>\n",
       "      <td>0.0</td>\n",
       "      <td>1.0</td>\n",
       "      <td>0.0</td>\n",
       "      <td>0.0</td>\n",
       "      <td>1.0</td>\n",
       "      <td>0.0</td>\n",
       "      <td>0.0</td>\n",
       "    </tr>\n",
       "    <tr>\n",
       "      <th>2</th>\n",
       "      <td>891-01-7034</td>\n",
       "      <td>B</td>\n",
       "      <td>Mandalay</td>\n",
       "      <td>Normal</td>\n",
       "      <td>Female</td>\n",
       "      <td>Electronic accessories</td>\n",
       "      <td>74.71</td>\n",
       "      <td>6</td>\n",
       "      <td>22.413</td>\n",
       "      <td>470.673</td>\n",
       "      <td>...</td>\n",
       "      <td>0.0</td>\n",
       "      <td>0.0</td>\n",
       "      <td>0.0</td>\n",
       "      <td>0.0</td>\n",
       "      <td>0.0</td>\n",
       "      <td>1.0</td>\n",
       "      <td>0.0</td>\n",
       "      <td>1.0</td>\n",
       "      <td>0.0</td>\n",
       "      <td>0.0</td>\n",
       "    </tr>\n",
       "    <tr>\n",
       "      <th>3</th>\n",
       "      <td>493-65-6248</td>\n",
       "      <td>C</td>\n",
       "      <td>Naypyitaw</td>\n",
       "      <td>Member</td>\n",
       "      <td>Female</td>\n",
       "      <td>Sports and travel</td>\n",
       "      <td>36.98</td>\n",
       "      <td>10</td>\n",
       "      <td>18.490</td>\n",
       "      <td>388.290</td>\n",
       "      <td>...</td>\n",
       "      <td>0.0</td>\n",
       "      <td>0.0</td>\n",
       "      <td>0.0</td>\n",
       "      <td>1.0</td>\n",
       "      <td>0.0</td>\n",
       "      <td>0.0</td>\n",
       "      <td>1.0</td>\n",
       "      <td>0.0</td>\n",
       "      <td>1.0</td>\n",
       "      <td>0.0</td>\n",
       "    </tr>\n",
       "    <tr>\n",
       "      <th>4</th>\n",
       "      <td>556-97-7101</td>\n",
       "      <td>C</td>\n",
       "      <td>Naypyitaw</td>\n",
       "      <td>Normal</td>\n",
       "      <td>Female</td>\n",
       "      <td>Electronic accessories</td>\n",
       "      <td>63.22</td>\n",
       "      <td>2</td>\n",
       "      <td>6.322</td>\n",
       "      <td>132.762</td>\n",
       "      <td>...</td>\n",
       "      <td>0.0</td>\n",
       "      <td>0.0</td>\n",
       "      <td>0.0</td>\n",
       "      <td>0.0</td>\n",
       "      <td>0.0</td>\n",
       "      <td>0.0</td>\n",
       "      <td>1.0</td>\n",
       "      <td>1.0</td>\n",
       "      <td>0.0</td>\n",
       "      <td>0.0</td>\n",
       "    </tr>\n",
       "  </tbody>\n",
       "</table>\n",
       "<p>5 rows × 29 columns</p>\n",
       "</div>"
      ],
      "text/plain": [
       "    Invoice ID Branch       City Customer type  Gender  \\\n",
       "0  765-26-6951      A     Yangon        Normal    Male   \n",
       "1  530-90-9855      A     Yangon        Member    Male   \n",
       "2  891-01-7034      B   Mandalay        Normal  Female   \n",
       "3  493-65-6248      C  Naypyitaw        Member  Female   \n",
       "4  556-97-7101      C  Naypyitaw        Normal  Female   \n",
       "\n",
       "             Product line  Unit price  Quantity  Tax 5%    Total  ...  \\\n",
       "0       Sports and travel       72.61         6  21.783  457.443  ...   \n",
       "1      Home and lifestyle       47.59         8  19.036  399.756  ...   \n",
       "2  Electronic accessories       74.71         6  22.413  470.673  ...   \n",
       "3       Sports and travel       36.98        10  18.490  388.290  ...   \n",
       "4  Electronic accessories       63.22         2   6.322  132.762  ...   \n",
       "\n",
       "  x0_Food and beverages x0_Health and beauty x0_Home and lifestyle  \\\n",
       "0                   0.0                  0.0                   0.0   \n",
       "1                   0.0                  0.0                   1.0   \n",
       "2                   0.0                  0.0                   0.0   \n",
       "3                   0.0                  0.0                   0.0   \n",
       "4                   0.0                  0.0                   0.0   \n",
       "\n",
       "   x0_Sports and travel  x1_A  x1_B  x1_C  x2_Cash  x2_Credit card  x2_Ewallet  \n",
       "0                   1.0   1.0   0.0   0.0      0.0             1.0         0.0  \n",
       "1                   0.0   1.0   0.0   0.0      1.0             0.0         0.0  \n",
       "2                   0.0   0.0   1.0   0.0      1.0             0.0         0.0  \n",
       "3                   1.0   0.0   0.0   1.0      0.0             1.0         0.0  \n",
       "4                   0.0   0.0   0.0   1.0      1.0             0.0         0.0  \n",
       "\n",
       "[5 rows x 29 columns]"
      ]
     },
     "execution_count": 8,
     "metadata": {},
     "output_type": "execute_result"
    }
   ],
   "source": [
    "inputs= pd.concat([df, input5], axis=1)\n",
    "\n",
    "inputs.head()"
   ]
  },
  {
   "cell_type": "code",
   "execution_count": 9,
   "id": "a34f07d2",
   "metadata": {},
   "outputs": [
    {
     "data": {
      "text/html": [
       "<div>\n",
       "<style scoped>\n",
       "    .dataframe tbody tr th:only-of-type {\n",
       "        vertical-align: middle;\n",
       "    }\n",
       "\n",
       "    .dataframe tbody tr th {\n",
       "        vertical-align: top;\n",
       "    }\n",
       "\n",
       "    .dataframe thead th {\n",
       "        text-align: right;\n",
       "    }\n",
       "</style>\n",
       "<table border=\"1\" class=\"dataframe\">\n",
       "  <thead>\n",
       "    <tr style=\"text-align: right;\">\n",
       "      <th></th>\n",
       "      <th>Customer type</th>\n",
       "      <th>Gender</th>\n",
       "      <th>Unit price</th>\n",
       "      <th>Quantity</th>\n",
       "      <th>Total</th>\n",
       "      <th>COGS</th>\n",
       "      <th>Gross Margin Precentage</th>\n",
       "      <th>Gross Income</th>\n",
       "      <th>Rating</th>\n",
       "      <th>x0_Electronic accessories</th>\n",
       "      <th>...</th>\n",
       "      <th>x0_Food and beverages</th>\n",
       "      <th>x0_Health and beauty</th>\n",
       "      <th>x0_Home and lifestyle</th>\n",
       "      <th>x0_Sports and travel</th>\n",
       "      <th>x1_A</th>\n",
       "      <th>x1_B</th>\n",
       "      <th>x1_C</th>\n",
       "      <th>x2_Cash</th>\n",
       "      <th>x2_Credit card</th>\n",
       "      <th>x2_Ewallet</th>\n",
       "    </tr>\n",
       "  </thead>\n",
       "  <tbody>\n",
       "    <tr>\n",
       "      <th>0</th>\n",
       "      <td>Normal</td>\n",
       "      <td>Male</td>\n",
       "      <td>72.61</td>\n",
       "      <td>6</td>\n",
       "      <td>457.443</td>\n",
       "      <td>435.66</td>\n",
       "      <td>4.761905</td>\n",
       "      <td>21.783</td>\n",
       "      <td>6.9</td>\n",
       "      <td>0.0</td>\n",
       "      <td>...</td>\n",
       "      <td>0.0</td>\n",
       "      <td>0.0</td>\n",
       "      <td>0.0</td>\n",
       "      <td>1.0</td>\n",
       "      <td>1.0</td>\n",
       "      <td>0.0</td>\n",
       "      <td>0.0</td>\n",
       "      <td>0.0</td>\n",
       "      <td>1.0</td>\n",
       "      <td>0.0</td>\n",
       "    </tr>\n",
       "    <tr>\n",
       "      <th>1</th>\n",
       "      <td>Member</td>\n",
       "      <td>Male</td>\n",
       "      <td>47.59</td>\n",
       "      <td>8</td>\n",
       "      <td>399.756</td>\n",
       "      <td>380.72</td>\n",
       "      <td>4.761905</td>\n",
       "      <td>19.036</td>\n",
       "      <td>5.7</td>\n",
       "      <td>0.0</td>\n",
       "      <td>...</td>\n",
       "      <td>0.0</td>\n",
       "      <td>0.0</td>\n",
       "      <td>1.0</td>\n",
       "      <td>0.0</td>\n",
       "      <td>1.0</td>\n",
       "      <td>0.0</td>\n",
       "      <td>0.0</td>\n",
       "      <td>1.0</td>\n",
       "      <td>0.0</td>\n",
       "      <td>0.0</td>\n",
       "    </tr>\n",
       "    <tr>\n",
       "      <th>2</th>\n",
       "      <td>Normal</td>\n",
       "      <td>Female</td>\n",
       "      <td>74.71</td>\n",
       "      <td>6</td>\n",
       "      <td>470.673</td>\n",
       "      <td>448.26</td>\n",
       "      <td>4.761905</td>\n",
       "      <td>22.413</td>\n",
       "      <td>6.7</td>\n",
       "      <td>1.0</td>\n",
       "      <td>...</td>\n",
       "      <td>0.0</td>\n",
       "      <td>0.0</td>\n",
       "      <td>0.0</td>\n",
       "      <td>0.0</td>\n",
       "      <td>0.0</td>\n",
       "      <td>1.0</td>\n",
       "      <td>0.0</td>\n",
       "      <td>1.0</td>\n",
       "      <td>0.0</td>\n",
       "      <td>0.0</td>\n",
       "    </tr>\n",
       "    <tr>\n",
       "      <th>3</th>\n",
       "      <td>Member</td>\n",
       "      <td>Female</td>\n",
       "      <td>36.98</td>\n",
       "      <td>10</td>\n",
       "      <td>388.290</td>\n",
       "      <td>369.80</td>\n",
       "      <td>4.761905</td>\n",
       "      <td>18.490</td>\n",
       "      <td>7.0</td>\n",
       "      <td>0.0</td>\n",
       "      <td>...</td>\n",
       "      <td>0.0</td>\n",
       "      <td>0.0</td>\n",
       "      <td>0.0</td>\n",
       "      <td>1.0</td>\n",
       "      <td>0.0</td>\n",
       "      <td>0.0</td>\n",
       "      <td>1.0</td>\n",
       "      <td>0.0</td>\n",
       "      <td>1.0</td>\n",
       "      <td>0.0</td>\n",
       "    </tr>\n",
       "    <tr>\n",
       "      <th>4</th>\n",
       "      <td>Normal</td>\n",
       "      <td>Female</td>\n",
       "      <td>63.22</td>\n",
       "      <td>2</td>\n",
       "      <td>132.762</td>\n",
       "      <td>126.44</td>\n",
       "      <td>4.761905</td>\n",
       "      <td>6.322</td>\n",
       "      <td>8.5</td>\n",
       "      <td>1.0</td>\n",
       "      <td>...</td>\n",
       "      <td>0.0</td>\n",
       "      <td>0.0</td>\n",
       "      <td>0.0</td>\n",
       "      <td>0.0</td>\n",
       "      <td>0.0</td>\n",
       "      <td>0.0</td>\n",
       "      <td>1.0</td>\n",
       "      <td>1.0</td>\n",
       "      <td>0.0</td>\n",
       "      <td>0.0</td>\n",
       "    </tr>\n",
       "  </tbody>\n",
       "</table>\n",
       "<p>5 rows × 21 columns</p>\n",
       "</div>"
      ],
      "text/plain": [
       "  Customer type  Gender  Unit price  Quantity    Total    COGS  \\\n",
       "0        Normal    Male       72.61         6  457.443  435.66   \n",
       "1        Member    Male       47.59         8  399.756  380.72   \n",
       "2        Normal  Female       74.71         6  470.673  448.26   \n",
       "3        Member  Female       36.98        10  388.290  369.80   \n",
       "4        Normal  Female       63.22         2  132.762  126.44   \n",
       "\n",
       "   Gross Margin Precentage  Gross Income  Rating  x0_Electronic accessories  \\\n",
       "0                 4.761905        21.783     6.9                        0.0   \n",
       "1                 4.761905        19.036     5.7                        0.0   \n",
       "2                 4.761905        22.413     6.7                        1.0   \n",
       "3                 4.761905        18.490     7.0                        0.0   \n",
       "4                 4.761905         6.322     8.5                        1.0   \n",
       "\n",
       "   ...  x0_Food and beverages  x0_Health and beauty  x0_Home and lifestyle  \\\n",
       "0  ...                    0.0                   0.0                    0.0   \n",
       "1  ...                    0.0                   0.0                    1.0   \n",
       "2  ...                    0.0                   0.0                    0.0   \n",
       "3  ...                    0.0                   0.0                    0.0   \n",
       "4  ...                    0.0                   0.0                    0.0   \n",
       "\n",
       "   x0_Sports and travel  x1_A  x1_B  x1_C  x2_Cash  x2_Credit card  x2_Ewallet  \n",
       "0                   1.0   1.0   0.0   0.0      0.0             1.0         0.0  \n",
       "1                   0.0   1.0   0.0   0.0      1.0             0.0         0.0  \n",
       "2                   0.0   0.0   1.0   0.0      1.0             0.0         0.0  \n",
       "3                   1.0   0.0   0.0   1.0      0.0             1.0         0.0  \n",
       "4                   0.0   0.0   0.0   1.0      1.0             0.0         0.0  \n",
       "\n",
       "[5 rows x 21 columns]"
      ]
     },
     "execution_count": 9,
     "metadata": {},
     "output_type": "execute_result"
    }
   ],
   "source": [
    "inputs.drop(columns=['Invoice ID','Time','Tax 5%','Product line','City','Payment','Branch','Date'],inplace=True)\n",
    "inputs.head()"
   ]
  },
  {
   "cell_type": "code",
   "execution_count": null,
   "id": "fda109db",
   "metadata": {},
   "outputs": [],
   "source": []
  },
  {
   "cell_type": "code",
   "execution_count": null,
   "id": "d710adb8",
   "metadata": {},
   "outputs": [],
   "source": []
  },
  {
   "cell_type": "code",
   "execution_count": null,
   "id": "6227c7d1",
   "metadata": {},
   "outputs": [],
   "source": []
  },
  {
   "cell_type": "code",
   "execution_count": 10,
   "id": "e6f2b603",
   "metadata": {},
   "outputs": [
    {
     "name": "stdout",
     "output_type": "stream",
     "text": [
      "Index(['Customer type', 'Gender'], dtype='object')\n"
     ]
    }
   ],
   "source": [
    "objList = inputs.select_dtypes(include = \"object\").columns   \n",
    "print (objList)        "
   ]
  },
  {
   "cell_type": "code",
   "execution_count": 11,
   "id": "45ec8ebd",
   "metadata": {},
   "outputs": [
    {
     "name": "stdout",
     "output_type": "stream",
     "text": [
      "<class 'pandas.core.frame.DataFrame'>\n",
      "RangeIndex: 1000 entries, 0 to 999\n",
      "Data columns (total 21 columns):\n",
      " #   Column                     Non-Null Count  Dtype  \n",
      "---  ------                     --------------  -----  \n",
      " 0   Customer type              1000 non-null   int32  \n",
      " 1   Gender                     1000 non-null   int32  \n",
      " 2   Unit price                 1000 non-null   float64\n",
      " 3   Quantity                   1000 non-null   int64  \n",
      " 4   Total                      1000 non-null   float64\n",
      " 5   COGS                       1000 non-null   float64\n",
      " 6   Gross Margin Precentage    1000 non-null   float64\n",
      " 7   Gross Income               1000 non-null   float64\n",
      " 8   Rating                     1000 non-null   float64\n",
      " 9   x0_Electronic accessories  1000 non-null   float64\n",
      " 10  x0_Fashion accessories     1000 non-null   float64\n",
      " 11  x0_Food and beverages      1000 non-null   float64\n",
      " 12  x0_Health and beauty       1000 non-null   float64\n",
      " 13  x0_Home and lifestyle      1000 non-null   float64\n",
      " 14  x0_Sports and travel       1000 non-null   float64\n",
      " 15  x1_A                       1000 non-null   float64\n",
      " 16  x1_B                       1000 non-null   float64\n",
      " 17  x1_C                       1000 non-null   float64\n",
      " 18  x2_Cash                    1000 non-null   float64\n",
      " 19  x2_Credit card             1000 non-null   float64\n",
      " 20  x2_Ewallet                 1000 non-null   float64\n",
      "dtypes: float64(18), int32(2), int64(1)\n",
      "memory usage: 156.4 KB\n"
     ]
    }
   ],
   "source": [
    "le = LabelEncoder()\n",
    "for features in objList:\n",
    "    inputs[features] = le.fit_transform(inputs[features])\n",
    "inputs.info()      "
   ]
  },
  {
   "cell_type": "code",
   "execution_count": 12,
   "id": "69e11d47",
   "metadata": {},
   "outputs": [
    {
     "data": {
      "text/html": [
       "<div>\n",
       "<style scoped>\n",
       "    .dataframe tbody tr th:only-of-type {\n",
       "        vertical-align: middle;\n",
       "    }\n",
       "\n",
       "    .dataframe tbody tr th {\n",
       "        vertical-align: top;\n",
       "    }\n",
       "\n",
       "    .dataframe thead th {\n",
       "        text-align: right;\n",
       "    }\n",
       "</style>\n",
       "<table border=\"1\" class=\"dataframe\">\n",
       "  <thead>\n",
       "    <tr style=\"text-align: right;\">\n",
       "      <th></th>\n",
       "      <th>Customer type</th>\n",
       "      <th>Gender</th>\n",
       "      <th>Unit price</th>\n",
       "      <th>Quantity</th>\n",
       "      <th>Total</th>\n",
       "      <th>COGS</th>\n",
       "      <th>Gross Margin Precentage</th>\n",
       "      <th>Gross Income</th>\n",
       "      <th>Rating</th>\n",
       "      <th>x0_Electronic accessories</th>\n",
       "      <th>...</th>\n",
       "      <th>x0_Food and beverages</th>\n",
       "      <th>x0_Health and beauty</th>\n",
       "      <th>x0_Home and lifestyle</th>\n",
       "      <th>x0_Sports and travel</th>\n",
       "      <th>x1_A</th>\n",
       "      <th>x1_B</th>\n",
       "      <th>x1_C</th>\n",
       "      <th>x2_Cash</th>\n",
       "      <th>x2_Credit card</th>\n",
       "      <th>x2_Ewallet</th>\n",
       "    </tr>\n",
       "  </thead>\n",
       "  <tbody>\n",
       "    <tr>\n",
       "      <th>0</th>\n",
       "      <td>1</td>\n",
       "      <td>1</td>\n",
       "      <td>72.61</td>\n",
       "      <td>6</td>\n",
       "      <td>457.443</td>\n",
       "      <td>435.66</td>\n",
       "      <td>4.761905</td>\n",
       "      <td>21.783</td>\n",
       "      <td>6.9</td>\n",
       "      <td>0.0</td>\n",
       "      <td>...</td>\n",
       "      <td>0.0</td>\n",
       "      <td>0.0</td>\n",
       "      <td>0.0</td>\n",
       "      <td>1.0</td>\n",
       "      <td>1.0</td>\n",
       "      <td>0.0</td>\n",
       "      <td>0.0</td>\n",
       "      <td>0.0</td>\n",
       "      <td>1.0</td>\n",
       "      <td>0.0</td>\n",
       "    </tr>\n",
       "    <tr>\n",
       "      <th>1</th>\n",
       "      <td>0</td>\n",
       "      <td>1</td>\n",
       "      <td>47.59</td>\n",
       "      <td>8</td>\n",
       "      <td>399.756</td>\n",
       "      <td>380.72</td>\n",
       "      <td>4.761905</td>\n",
       "      <td>19.036</td>\n",
       "      <td>5.7</td>\n",
       "      <td>0.0</td>\n",
       "      <td>...</td>\n",
       "      <td>0.0</td>\n",
       "      <td>0.0</td>\n",
       "      <td>1.0</td>\n",
       "      <td>0.0</td>\n",
       "      <td>1.0</td>\n",
       "      <td>0.0</td>\n",
       "      <td>0.0</td>\n",
       "      <td>1.0</td>\n",
       "      <td>0.0</td>\n",
       "      <td>0.0</td>\n",
       "    </tr>\n",
       "    <tr>\n",
       "      <th>2</th>\n",
       "      <td>1</td>\n",
       "      <td>0</td>\n",
       "      <td>74.71</td>\n",
       "      <td>6</td>\n",
       "      <td>470.673</td>\n",
       "      <td>448.26</td>\n",
       "      <td>4.761905</td>\n",
       "      <td>22.413</td>\n",
       "      <td>6.7</td>\n",
       "      <td>1.0</td>\n",
       "      <td>...</td>\n",
       "      <td>0.0</td>\n",
       "      <td>0.0</td>\n",
       "      <td>0.0</td>\n",
       "      <td>0.0</td>\n",
       "      <td>0.0</td>\n",
       "      <td>1.0</td>\n",
       "      <td>0.0</td>\n",
       "      <td>1.0</td>\n",
       "      <td>0.0</td>\n",
       "      <td>0.0</td>\n",
       "    </tr>\n",
       "    <tr>\n",
       "      <th>3</th>\n",
       "      <td>0</td>\n",
       "      <td>0</td>\n",
       "      <td>36.98</td>\n",
       "      <td>10</td>\n",
       "      <td>388.290</td>\n",
       "      <td>369.80</td>\n",
       "      <td>4.761905</td>\n",
       "      <td>18.490</td>\n",
       "      <td>7.0</td>\n",
       "      <td>0.0</td>\n",
       "      <td>...</td>\n",
       "      <td>0.0</td>\n",
       "      <td>0.0</td>\n",
       "      <td>0.0</td>\n",
       "      <td>1.0</td>\n",
       "      <td>0.0</td>\n",
       "      <td>0.0</td>\n",
       "      <td>1.0</td>\n",
       "      <td>0.0</td>\n",
       "      <td>1.0</td>\n",
       "      <td>0.0</td>\n",
       "    </tr>\n",
       "    <tr>\n",
       "      <th>4</th>\n",
       "      <td>1</td>\n",
       "      <td>0</td>\n",
       "      <td>63.22</td>\n",
       "      <td>2</td>\n",
       "      <td>132.762</td>\n",
       "      <td>126.44</td>\n",
       "      <td>4.761905</td>\n",
       "      <td>6.322</td>\n",
       "      <td>8.5</td>\n",
       "      <td>1.0</td>\n",
       "      <td>...</td>\n",
       "      <td>0.0</td>\n",
       "      <td>0.0</td>\n",
       "      <td>0.0</td>\n",
       "      <td>0.0</td>\n",
       "      <td>0.0</td>\n",
       "      <td>0.0</td>\n",
       "      <td>1.0</td>\n",
       "      <td>1.0</td>\n",
       "      <td>0.0</td>\n",
       "      <td>0.0</td>\n",
       "    </tr>\n",
       "  </tbody>\n",
       "</table>\n",
       "<p>5 rows × 21 columns</p>\n",
       "</div>"
      ],
      "text/plain": [
       "   Customer type  Gender  Unit price  Quantity    Total    COGS  \\\n",
       "0              1       1       72.61         6  457.443  435.66   \n",
       "1              0       1       47.59         8  399.756  380.72   \n",
       "2              1       0       74.71         6  470.673  448.26   \n",
       "3              0       0       36.98        10  388.290  369.80   \n",
       "4              1       0       63.22         2  132.762  126.44   \n",
       "\n",
       "   Gross Margin Precentage  Gross Income  Rating  x0_Electronic accessories  \\\n",
       "0                 4.761905        21.783     6.9                        0.0   \n",
       "1                 4.761905        19.036     5.7                        0.0   \n",
       "2                 4.761905        22.413     6.7                        1.0   \n",
       "3                 4.761905        18.490     7.0                        0.0   \n",
       "4                 4.761905         6.322     8.5                        1.0   \n",
       "\n",
       "   ...  x0_Food and beverages  x0_Health and beauty  x0_Home and lifestyle  \\\n",
       "0  ...                    0.0                   0.0                    0.0   \n",
       "1  ...                    0.0                   0.0                    1.0   \n",
       "2  ...                    0.0                   0.0                    0.0   \n",
       "3  ...                    0.0                   0.0                    0.0   \n",
       "4  ...                    0.0                   0.0                    0.0   \n",
       "\n",
       "   x0_Sports and travel  x1_A  x1_B  x1_C  x2_Cash  x2_Credit card  x2_Ewallet  \n",
       "0                   1.0   1.0   0.0   0.0      0.0             1.0         0.0  \n",
       "1                   0.0   1.0   0.0   0.0      1.0             0.0         0.0  \n",
       "2                   0.0   0.0   1.0   0.0      1.0             0.0         0.0  \n",
       "3                   1.0   0.0   0.0   1.0      0.0             1.0         0.0  \n",
       "4                   0.0   0.0   0.0   1.0      1.0             0.0         0.0  \n",
       "\n",
       "[5 rows x 21 columns]"
      ]
     },
     "execution_count": 12,
     "metadata": {},
     "output_type": "execute_result"
    }
   ],
   "source": [
    "inputs.head()"
   ]
  },
  {
   "cell_type": "code",
   "execution_count": 13,
   "id": "4e028c19",
   "metadata": {},
   "outputs": [],
   "source": [
    "scale = StandardScaler()\n",
    "scaleddata = pd.DataFrame(scale.fit_transform(inputs), columns=inputs.columns)"
   ]
  },
  {
   "cell_type": "code",
   "execution_count": 55,
   "id": "79d9c6bf",
   "metadata": {},
   "outputs": [
    {
     "data": {
      "image/png": "[encoded data removed]",
      "text/plain": [
       "<Figure size 1440x1440 with 2 Axes>"
      ]
     },
     "metadata": {
      "needs_background": "light"
     },
     "output_type": "display_data"
    }
   ],
   "source": [
    "plt.figure(figsize=(20,20))\n",
    "sn.heatmap(inputs.corr(),annot=True,cmap=plt.cm.Reds).set_title('Correlation Heatmap.')\n",
    "plt.show()"
   ]
  },
  {
   "cell_type": "code",
   "execution_count": 15,
   "id": "437d112f",
   "metadata": {},
   "outputs": [
    {
     "data": {
      "text/html": [
       "<div>\n",
       "<style scoped>\n",
       "    .dataframe tbody tr th:only-of-type {\n",
       "        vertical-align: middle;\n",
       "    }\n",
       "\n",
       "    .dataframe tbody tr th {\n",
       "        vertical-align: top;\n",
       "    }\n",
       "\n",
       "    .dataframe thead th {\n",
       "        text-align: right;\n",
       "    }\n",
       "</style>\n",
       "<table border=\"1\" class=\"dataframe\">\n",
       "  <thead>\n",
       "    <tr style=\"text-align: right;\">\n",
       "      <th></th>\n",
       "      <th>Customer type</th>\n",
       "      <th>Gender</th>\n",
       "      <th>Unit price</th>\n",
       "      <th>Quantity</th>\n",
       "      <th>Total</th>\n",
       "      <th>COGS</th>\n",
       "      <th>Gross Margin Precentage</th>\n",
       "      <th>Gross Income</th>\n",
       "      <th>Rating</th>\n",
       "      <th>x0_Electronic accessories</th>\n",
       "      <th>...</th>\n",
       "      <th>x0_Food and beverages</th>\n",
       "      <th>x0_Health and beauty</th>\n",
       "      <th>x0_Home and lifestyle</th>\n",
       "      <th>x0_Sports and travel</th>\n",
       "      <th>x1_A</th>\n",
       "      <th>x1_B</th>\n",
       "      <th>x1_C</th>\n",
       "      <th>x2_Cash</th>\n",
       "      <th>x2_Credit card</th>\n",
       "      <th>x2_Ewallet</th>\n",
       "    </tr>\n",
       "  </thead>\n",
       "  <tbody>\n",
       "    <tr>\n",
       "      <th>0</th>\n",
       "      <td>1</td>\n",
       "      <td>1</td>\n",
       "      <td>72.61</td>\n",
       "      <td>6</td>\n",
       "      <td>457.443</td>\n",
       "      <td>435.66</td>\n",
       "      <td>4.761905</td>\n",
       "      <td>21.783</td>\n",
       "      <td>6.9</td>\n",
       "      <td>0.0</td>\n",
       "      <td>...</td>\n",
       "      <td>0.0</td>\n",
       "      <td>0.0</td>\n",
       "      <td>0.0</td>\n",
       "      <td>1.0</td>\n",
       "      <td>1.0</td>\n",
       "      <td>0.0</td>\n",
       "      <td>0.0</td>\n",
       "      <td>0.0</td>\n",
       "      <td>1.0</td>\n",
       "      <td>0.0</td>\n",
       "    </tr>\n",
       "    <tr>\n",
       "      <th>1</th>\n",
       "      <td>0</td>\n",
       "      <td>1</td>\n",
       "      <td>47.59</td>\n",
       "      <td>8</td>\n",
       "      <td>399.756</td>\n",
       "      <td>380.72</td>\n",
       "      <td>4.761905</td>\n",
       "      <td>19.036</td>\n",
       "      <td>5.7</td>\n",
       "      <td>0.0</td>\n",
       "      <td>...</td>\n",
       "      <td>0.0</td>\n",
       "      <td>0.0</td>\n",
       "      <td>1.0</td>\n",
       "      <td>0.0</td>\n",
       "      <td>1.0</td>\n",
       "      <td>0.0</td>\n",
       "      <td>0.0</td>\n",
       "      <td>1.0</td>\n",
       "      <td>0.0</td>\n",
       "      <td>0.0</td>\n",
       "    </tr>\n",
       "    <tr>\n",
       "      <th>2</th>\n",
       "      <td>1</td>\n",
       "      <td>0</td>\n",
       "      <td>74.71</td>\n",
       "      <td>6</td>\n",
       "      <td>470.673</td>\n",
       "      <td>448.26</td>\n",
       "      <td>4.761905</td>\n",
       "      <td>22.413</td>\n",
       "      <td>6.7</td>\n",
       "      <td>1.0</td>\n",
       "      <td>...</td>\n",
       "      <td>0.0</td>\n",
       "      <td>0.0</td>\n",
       "      <td>0.0</td>\n",
       "      <td>0.0</td>\n",
       "      <td>0.0</td>\n",
       "      <td>1.0</td>\n",
       "      <td>0.0</td>\n",
       "      <td>1.0</td>\n",
       "      <td>0.0</td>\n",
       "      <td>0.0</td>\n",
       "    </tr>\n",
       "    <tr>\n",
       "      <th>3</th>\n",
       "      <td>0</td>\n",
       "      <td>0</td>\n",
       "      <td>36.98</td>\n",
       "      <td>10</td>\n",
       "      <td>388.290</td>\n",
       "      <td>369.80</td>\n",
       "      <td>4.761905</td>\n",
       "      <td>18.490</td>\n",
       "      <td>7.0</td>\n",
       "      <td>0.0</td>\n",
       "      <td>...</td>\n",
       "      <td>0.0</td>\n",
       "      <td>0.0</td>\n",
       "      <td>0.0</td>\n",
       "      <td>1.0</td>\n",
       "      <td>0.0</td>\n",
       "      <td>0.0</td>\n",
       "      <td>1.0</td>\n",
       "      <td>0.0</td>\n",
       "      <td>1.0</td>\n",
       "      <td>0.0</td>\n",
       "    </tr>\n",
       "    <tr>\n",
       "      <th>4</th>\n",
       "      <td>1</td>\n",
       "      <td>0</td>\n",
       "      <td>63.22</td>\n",
       "      <td>2</td>\n",
       "      <td>132.762</td>\n",
       "      <td>126.44</td>\n",
       "      <td>4.761905</td>\n",
       "      <td>6.322</td>\n",
       "      <td>8.5</td>\n",
       "      <td>1.0</td>\n",
       "      <td>...</td>\n",
       "      <td>0.0</td>\n",
       "      <td>0.0</td>\n",
       "      <td>0.0</td>\n",
       "      <td>0.0</td>\n",
       "      <td>0.0</td>\n",
       "      <td>0.0</td>\n",
       "      <td>1.0</td>\n",
       "      <td>1.0</td>\n",
       "      <td>0.0</td>\n",
       "      <td>0.0</td>\n",
       "    </tr>\n",
       "  </tbody>\n",
       "</table>\n",
       "<p>5 rows × 21 columns</p>\n",
       "</div>"
      ],
      "text/plain": [
       "   Customer type  Gender  Unit price  Quantity    Total    COGS  \\\n",
       "0              1       1       72.61         6  457.443  435.66   \n",
       "1              0       1       47.59         8  399.756  380.72   \n",
       "2              1       0       74.71         6  470.673  448.26   \n",
       "3              0       0       36.98        10  388.290  369.80   \n",
       "4              1       0       63.22         2  132.762  126.44   \n",
       "\n",
       "   Gross Margin Precentage  Gross Income  Rating  x0_Electronic accessories  \\\n",
       "0                 4.761905        21.783     6.9                        0.0   \n",
       "1                 4.761905        19.036     5.7                        0.0   \n",
       "2                 4.761905        22.413     6.7                        1.0   \n",
       "3                 4.761905        18.490     7.0                        0.0   \n",
       "4                 4.761905         6.322     8.5                        1.0   \n",
       "\n",
       "   ...  x0_Food and beverages  x0_Health and beauty  x0_Home and lifestyle  \\\n",
       "0  ...                    0.0                   0.0                    0.0   \n",
       "1  ...                    0.0                   0.0                    1.0   \n",
       "2  ...                    0.0                   0.0                    0.0   \n",
       "3  ...                    0.0                   0.0                    0.0   \n",
       "4  ...                    0.0                   0.0                    0.0   \n",
       "\n",
       "   x0_Sports and travel  x1_A  x1_B  x1_C  x2_Cash  x2_Credit card  x2_Ewallet  \n",
       "0                   1.0   1.0   0.0   0.0      0.0             1.0         0.0  \n",
       "1                   0.0   1.0   0.0   0.0      1.0             0.0         0.0  \n",
       "2                   0.0   0.0   1.0   0.0      1.0             0.0         0.0  \n",
       "3                   1.0   0.0   0.0   1.0      0.0             1.0         0.0  \n",
       "4                   0.0   0.0   0.0   1.0      1.0             0.0         0.0  \n",
       "\n",
       "[5 rows x 21 columns]"
      ]
     },
     "execution_count": 15,
     "metadata": {},
     "output_type": "execute_result"
    }
   ],
   "source": [
    "inputs.head()"
   ]
  },
  {
   "cell_type": "markdown",
   "id": "0dbd0d3b",
   "metadata": {},
   "source": [
    "# CUSTOMER TYPE TAHMİNİ"
   ]
  },
  {
   "cell_type": "markdown",
   "id": "82100346",
   "metadata": {},
   "source": [
    "# Customer type tahmini\n"
   ]
  },
  {
   "cell_type": "code",
   "execution_count": 16,
   "id": "a2ea943d",
   "metadata": {},
   "outputs": [
    {
     "data": {
      "text/html": [
       "<div>\n",
       "<style scoped>\n",
       "    .dataframe tbody tr th:only-of-type {\n",
       "        vertical-align: middle;\n",
       "    }\n",
       "\n",
       "    .dataframe tbody tr th {\n",
       "        vertical-align: top;\n",
       "    }\n",
       "\n",
       "    .dataframe thead th {\n",
       "        text-align: right;\n",
       "    }\n",
       "</style>\n",
       "<table border=\"1\" class=\"dataframe\">\n",
       "  <thead>\n",
       "    <tr style=\"text-align: right;\">\n",
       "      <th></th>\n",
       "      <th>Gender</th>\n",
       "      <th>Unit price</th>\n",
       "      <th>Quantity</th>\n",
       "      <th>Total</th>\n",
       "      <th>COGS</th>\n",
       "      <th>Gross Margin Precentage</th>\n",
       "      <th>Gross Income</th>\n",
       "      <th>Rating</th>\n",
       "      <th>x0_Electronic accessories</th>\n",
       "      <th>x0_Fashion accessories</th>\n",
       "      <th>x0_Food and beverages</th>\n",
       "      <th>x0_Health and beauty</th>\n",
       "      <th>x0_Home and lifestyle</th>\n",
       "      <th>x0_Sports and travel</th>\n",
       "      <th>x1_A</th>\n",
       "      <th>x1_B</th>\n",
       "      <th>x1_C</th>\n",
       "      <th>x2_Cash</th>\n",
       "      <th>x2_Credit card</th>\n",
       "      <th>x2_Ewallet</th>\n",
       "    </tr>\n",
       "  </thead>\n",
       "  <tbody>\n",
       "    <tr>\n",
       "      <th>0</th>\n",
       "      <td>1</td>\n",
       "      <td>72.61</td>\n",
       "      <td>6</td>\n",
       "      <td>457.443</td>\n",
       "      <td>435.66</td>\n",
       "      <td>4.761905</td>\n",
       "      <td>21.783</td>\n",
       "      <td>6.9</td>\n",
       "      <td>0.0</td>\n",
       "      <td>0.0</td>\n",
       "      <td>0.0</td>\n",
       "      <td>0.0</td>\n",
       "      <td>0.0</td>\n",
       "      <td>1.0</td>\n",
       "      <td>1.0</td>\n",
       "      <td>0.0</td>\n",
       "      <td>0.0</td>\n",
       "      <td>0.0</td>\n",
       "      <td>1.0</td>\n",
       "      <td>0.0</td>\n",
       "    </tr>\n",
       "    <tr>\n",
       "      <th>1</th>\n",
       "      <td>1</td>\n",
       "      <td>47.59</td>\n",
       "      <td>8</td>\n",
       "      <td>399.756</td>\n",
       "      <td>380.72</td>\n",
       "      <td>4.761905</td>\n",
       "      <td>19.036</td>\n",
       "      <td>5.7</td>\n",
       "      <td>0.0</td>\n",
       "      <td>0.0</td>\n",
       "      <td>0.0</td>\n",
       "      <td>0.0</td>\n",
       "      <td>1.0</td>\n",
       "      <td>0.0</td>\n",
       "      <td>1.0</td>\n",
       "      <td>0.0</td>\n",
       "      <td>0.0</td>\n",
       "      <td>1.0</td>\n",
       "      <td>0.0</td>\n",
       "      <td>0.0</td>\n",
       "    </tr>\n",
       "    <tr>\n",
       "      <th>2</th>\n",
       "      <td>0</td>\n",
       "      <td>74.71</td>\n",
       "      <td>6</td>\n",
       "      <td>470.673</td>\n",
       "      <td>448.26</td>\n",
       "      <td>4.761905</td>\n",
       "      <td>22.413</td>\n",
       "      <td>6.7</td>\n",
       "      <td>1.0</td>\n",
       "      <td>0.0</td>\n",
       "      <td>0.0</td>\n",
       "      <td>0.0</td>\n",
       "      <td>0.0</td>\n",
       "      <td>0.0</td>\n",
       "      <td>0.0</td>\n",
       "      <td>1.0</td>\n",
       "      <td>0.0</td>\n",
       "      <td>1.0</td>\n",
       "      <td>0.0</td>\n",
       "      <td>0.0</td>\n",
       "    </tr>\n",
       "    <tr>\n",
       "      <th>3</th>\n",
       "      <td>0</td>\n",
       "      <td>36.98</td>\n",
       "      <td>10</td>\n",
       "      <td>388.290</td>\n",
       "      <td>369.80</td>\n",
       "      <td>4.761905</td>\n",
       "      <td>18.490</td>\n",
       "      <td>7.0</td>\n",
       "      <td>0.0</td>\n",
       "      <td>0.0</td>\n",
       "      <td>0.0</td>\n",
       "      <td>0.0</td>\n",
       "      <td>0.0</td>\n",
       "      <td>1.0</td>\n",
       "      <td>0.0</td>\n",
       "      <td>0.0</td>\n",
       "      <td>1.0</td>\n",
       "      <td>0.0</td>\n",
       "      <td>1.0</td>\n",
       "      <td>0.0</td>\n",
       "    </tr>\n",
       "  </tbody>\n",
       "</table>\n",
       "</div>"
      ],
      "text/plain": [
       "   Gender  Unit price  Quantity    Total    COGS  Gross Margin Precentage  \\\n",
       "0       1       72.61         6  457.443  435.66                 4.761905   \n",
       "1       1       47.59         8  399.756  380.72                 4.761905   \n",
       "2       0       74.71         6  470.673  448.26                 4.761905   \n",
       "3       0       36.98        10  388.290  369.80                 4.761905   \n",
       "\n",
       "   Gross Income  Rating  x0_Electronic accessories  x0_Fashion accessories  \\\n",
       "0        21.783     6.9                        0.0                     0.0   \n",
       "1        19.036     5.7                        0.0                     0.0   \n",
       "2        22.413     6.7                        1.0                     0.0   \n",
       "3        18.490     7.0                        0.0                     0.0   \n",
       "\n",
       "   x0_Food and beverages  x0_Health and beauty  x0_Home and lifestyle  \\\n",
       "0                    0.0                   0.0                    0.0   \n",
       "1                    0.0                   0.0                    1.0   \n",
       "2                    0.0                   0.0                    0.0   \n",
       "3                    0.0                   0.0                    0.0   \n",
       "\n",
       "   x0_Sports and travel  x1_A  x1_B  x1_C  x2_Cash  x2_Credit card  x2_Ewallet  \n",
       "0                   1.0   1.0   0.0   0.0      0.0             1.0         0.0  \n",
       "1                   0.0   1.0   0.0   0.0      1.0             0.0         0.0  \n",
       "2                   0.0   0.0   1.0   0.0      1.0             0.0         0.0  \n",
       "3                   1.0   0.0   0.0   1.0      0.0             1.0         0.0  "
      ]
     },
     "execution_count": 16,
     "metadata": {},
     "output_type": "execute_result"
    }
   ],
   "source": [
    "b=inputs.copy() \n",
    "b.drop(columns=['Customer type'],inplace=True)\n",
    "b.head(4)"
   ]
  },
  {
   "cell_type": "code",
   "execution_count": 17,
   "id": "80b38aa5",
   "metadata": {},
   "outputs": [
    {
     "data": {
      "text/plain": [
       "(1000, 20)"
      ]
     },
     "execution_count": 17,
     "metadata": {},
     "output_type": "execute_result"
    }
   ],
   "source": [
    "b.shape"
   ]
  },
  {
   "cell_type": "code",
   "execution_count": 18,
   "id": "b8c540a4",
   "metadata": {},
   "outputs": [
    {
     "data": {
      "text/plain": [
       "0    1\n",
       "1    0\n",
       "2    1\n",
       "3    0\n",
       "Name: Customer type, dtype: int32"
      ]
     },
     "execution_count": 18,
     "metadata": {},
     "output_type": "execute_result"
    }
   ],
   "source": [
    "x = b.iloc[:,0:20]\n",
    "y = inputs.iloc[:,0]\n",
    "y.head(4)"
   ]
  },
  {
   "cell_type": "code",
   "execution_count": 19,
   "id": "95b31ea8",
   "metadata": {},
   "outputs": [],
   "source": [
    "from sklearn.model_selection import train_test_split\n",
    "from sklearn.linear_model import LogisticRegression"
   ]
  },
  {
   "cell_type": "code",
   "execution_count": 20,
   "id": "44ba51e4",
   "metadata": {},
   "outputs": [],
   "source": [
    "x_train1, x_test1,y_train1,y_test1=train_test_split(x,y,test_size=0.3,random_state=0)"
   ]
  },
  {
   "cell_type": "code",
   "execution_count": 21,
   "id": "f1494fe2",
   "metadata": {},
   "outputs": [],
   "source": [
    "scale.fit(x_train1)\n",
    "x_train_std=scale.transform(x_train1)\n",
    "x_test_std=scale.transform(x_test1)"
   ]
  },
  {
   "cell_type": "code",
   "execution_count": 22,
   "id": "62a83409",
   "metadata": {},
   "outputs": [
    {
     "name": "stdout",
     "output_type": "stream",
     "text": [
      "eğitim verisi için doğruluk oranı:  0.5542857142857143\n",
      "\n",
      "\n",
      "test verisi için doğruluk:  0.48\n",
      "Precision: 0.4881656804733728\n",
      "Recall: 0.5427631578947368\n",
      "Precision-test: 0.40372670807453415\n",
      "Recall-test 0.52\n",
      "0.45454545454545453\n",
      "0.514018691588785\n"
     ]
    },
    {
     "data": {
      "text/plain": [
       "<AxesSubplot:>"
      ]
     },
     "execution_count": 22,
     "metadata": {},
     "output_type": "execute_result"
    },
    {
     "data": {
      "image/png": "[encoded data removed]",
      "text/plain": [
       "<Figure size 432x288 with 2 Axes>"
      ]
     },
     "metadata": {
      "needs_background": "light"
     },
     "output_type": "display_data"
    }
   ],
   "source": [
    "from sklearn.metrics import accuracy_score\n",
    "from sklearn.metrics import f1_score,confusion_matrix, recall_score, precision_score\n",
    "\n",
    "model = LogisticRegression( max_iter=5000)\n",
    "model.fit(x_train_std, y_train1)\n",
    "\n",
    "y_pred = model.predict(x_test_std)\n",
    "y_pred1 = model.predict(x_train_std)\n",
    "\n",
    "\n",
    "print('eğitim verisi için doğruluk oranı: ',accuracy_score(y_pred1,y_train1))\n",
    "print('\\n')\n",
    "print('test verisi için doğruluk: ',accuracy_score(y_pred,y_test1))\n",
    "\n",
    "print(\"Precision:\", precision_score(y_pred1,y_train1))\n",
    "print(\"Recall:\",recall_score(y_pred1,y_train1))\n",
    "\n",
    "print(\"Precision-test:\", precision_score(y_pred,y_test1))\n",
    "print(\"Recall-test\",recall_score(y_pred,y_test1))\n",
    "\n",
    "print(f1_score(y_pred,y_test1))\n",
    "print(f1_score(y_pred1,y_train1))\n",
    "\n",
    "cm = confusion_matrix(y_test1,model.predict(x_test_std))\n",
    "sn.heatmap(cm,annot=True,fmt=\"d\")"
   ]
  },
  {
   "cell_type": "code",
   "execution_count": 23,
   "id": "f17173e1",
   "metadata": {},
   "outputs": [
    {
     "name": "stdout",
     "output_type": "stream",
     "text": [
      "eğitim verisi için doğruluk oranı:  0.6\n",
      "\n",
      "\n",
      "test verisi için doğruluk:  0.5166666666666667\n",
      "Precision: 0.7218934911242604\n",
      "Recall: 0.5674418604651162\n",
      "Precision-test: 0.5838509316770186\n",
      "Recall-test 0.5465116279069767\n",
      "0.5645645645645645\n",
      "0.6354166666666666\n"
     ]
    },
    {
     "data": {
      "text/plain": [
       "<AxesSubplot:>"
      ]
     },
     "execution_count": 23,
     "metadata": {},
     "output_type": "execute_result"
    },
    {
     "data": {
      "image/png": "[encoded data removed]",
      "text/plain": [
       "<Figure size 432x288 with 2 Axes>"
      ]
     },
     "metadata": {
      "needs_background": "light"
     },
     "output_type": "display_data"
    }
   ],
   "source": [
    "from sklearn.tree import DecisionTreeClassifier\n",
    "from sklearn.metrics import precision_score, recall_score\n",
    "from sklearn.metrics import f1_score\n",
    "\n",
    "dtc = DecisionTreeClassifier(max_depth=3)\n",
    "\n",
    "dtc.fit(x_train_std, y_train1)\n",
    "pred = dtc.predict(x_test_std)\n",
    "pred1 = dtc.predict(x_train_std)\n",
    "\n",
    "print('eğitim verisi için doğruluk oranı: ',accuracy_score(pred1,y_train1))\n",
    "print('\\n')\n",
    "print('test verisi için doğruluk: ',accuracy_score(pred,y_test1))\n",
    "\n",
    "print(\"Precision:\", precision_score(pred1,y_train1))\n",
    "print(\"Recall:\",recall_score(pred1,y_train1))\n",
    "\n",
    "print(\"Precision-test:\", precision_score(pred,y_test1))\n",
    "print(\"Recall-test\",recall_score(pred,y_test1))\n",
    "\n",
    "print(f1_score(pred,y_test1))\n",
    "print(f1_score(pred1,y_train1))\n",
    "\n",
    "\n",
    "\n",
    "\n",
    "cm = confusion_matrix(y_test1,dtc.predict(x_test_std))\n",
    "sn.heatmap(cm,annot=True,)"
   ]
  },
  {
   "cell_type": "code",
   "execution_count": 56,
   "id": "1a0f424d",
   "metadata": {},
   "outputs": [
    {
     "name": "stdout",
     "output_type": "stream",
     "text": [
      "eğitim verisi için doğruluk oranı:  0.79\n",
      "\n",
      "\n",
      "test verisi için doğruluk:  0.48333333333333334\n",
      "Precision: 0.7840236686390533\n",
      "Recall: 0.7817109144542773\n",
      "Precision-test: 0.4409937888198758\n",
      "Recall-test 0.5220588235294118\n",
      "0.47811447811447816\n",
      "0.7828655834564255\n"
     ]
    },
    {
     "name": "stderr",
     "output_type": "stream",
     "text": [
      "C:\\Users\\vatan_2i0ol45\\anaconda3\\lib\\site-packages\\sklearn\\neural_network\\_multilayer_perceptron.py:614: ConvergenceWarning: Stochastic Optimizer: Maximum iterations (200) reached and the optimization hasn't converged yet.\n",
      "  warnings.warn(\n"
     ]
    }
   ],
   "source": [
    "from sklearn.neural_network import MLPClassifier\n",
    "\n",
    "\n",
    "mlp = MLPClassifier()\n",
    "mlp.fit(x_train_std,y_train1)\n",
    "pred2 = mlp.predict(x_test_std)\n",
    "pred3= mlp.predict(x_train_std)\n",
    "\n",
    "print('eğitim verisi için doğruluk oranı: ',accuracy_score(pred3,y_train1))\n",
    "print('\\n')\n",
    "print('test verisi için doğruluk: ',accuracy_score(pred2,y_test1))\n",
    "\n",
    "print(\"Precision:\", precision_score(pred3,y_train1))\n",
    "print(\"Recall:\",recall_score(pred3,y_train1))\n",
    "\n",
    "print(\"Precision-test:\", precision_score(pred2,y_test1))\n",
    "print(\"Recall-test\",recall_score(pred2,y_test1))\n",
    "\n",
    "print(f1_score(pred2,y_test1))\n",
    "print(f1_score(pred3,y_train1))"
   ]
  },
  {
   "cell_type": "markdown",
   "id": "04944f09",
   "metadata": {},
   "source": [
    "# Mlp için parametre optimizasyonu"
   ]
  },
  {
   "cell_type": "code",
   "execution_count": 47,
   "id": "0fd07551",
   "metadata": {},
   "outputs": [
    {
     "name": "stdout",
     "output_type": "stream",
     "text": [
      "Fitting 10 folds for each of 81 candidates, totalling 810 fits\n"
     ]
    }
   ],
   "source": [
    "from sklearn.model_selection import GridSearchCV\n",
    "parametre1={'hidden_layer_sizes':[200,300,400],'max_iter':[400,500,700],\n",
    "           'alpha':[0.00005,0.0001,0.0005],'learning_rate_init':[0.01,0.5,0.1]}\n",
    "\n",
    "model12 = MLPClassifier()\n",
    "yeni_model12=GridSearchCV(model12,cv=10,param_grid=parametre1, verbose = 1, n_jobs = -1)\n",
    "\n",
    "yeni_model12.fit(x_train_std,y_train1)\n",
    "pred12 = yeni_model12.predict(x_test_std)\n",
    "pred13= yeni_model12.predict(x_train_std)\n",
    "\n",
    "\n"
   ]
  },
  {
   "cell_type": "code",
   "execution_count": 60,
   "id": "400e0599",
   "metadata": {},
   "outputs": [
    {
     "name": "stdout",
     "output_type": "stream",
     "text": [
      "en iyi parametreler {'alpha': 0.0001, 'hidden_layer_sizes': 400, 'learning_rate_init': 0.5, 'max_iter': 400}\n"
     ]
    }
   ],
   "source": [
    "best_parameters1 = yeni_model12.best_params_\n",
    "print('en iyi parametreler', best_parameters1)"
   ]
  },
  {
   "cell_type": "code",
   "execution_count": 61,
   "id": "7645df09",
   "metadata": {},
   "outputs": [
    {
     "name": "stdout",
     "output_type": "stream",
     "text": [
      "eğitim verisi için doğruluk oranı:  0.8971428571428571\n",
      "\n",
      "\n",
      "test verisi için doğruluk:  0.5166666666666667\n",
      "Precision: 0.9023668639053254\n",
      "Recall: 0.8866279069767442\n",
      "Precision-test: 0.5093167701863354\n",
      "Recall-test 0.5540540540540541\n",
      "0.5307443365695792\n",
      "0.8944281524926686\n"
     ]
    }
   ],
   "source": [
    "print('eğitim verisi için doğruluk oranı: ',accuracy_score(pred13,y_train1))\n",
    "print('\\n')\n",
    "print('test verisi için doğruluk: ',accuracy_score(pred12,y_test1))\n",
    "\n",
    "print(\"Precision:\", precision_score(pred13,y_train1))\n",
    "print(\"Recall:\",recall_score(pred13,y_train1))\n",
    "\n",
    "print(\"Precision-test:\", precision_score(pred12,y_test1))\n",
    "print(\"Recall-test\",recall_score(pred12,y_test1))\n",
    "\n",
    "print(f1_score(pred12,y_test1))\n",
    "print(f1_score(pred13,y_train1))      \n"
   ]
  },
  {
   "cell_type": "code",
   "execution_count": null,
   "id": "db12da0a",
   "metadata": {},
   "outputs": [],
   "source": []
  },
  {
   "cell_type": "code",
   "execution_count": null,
   "id": "48f68a9a",
   "metadata": {},
   "outputs": [],
   "source": []
  },
  {
   "cell_type": "code",
   "execution_count": null,
   "id": "7de97d02",
   "metadata": {},
   "outputs": [],
   "source": []
  },
  {
   "cell_type": "code",
   "execution_count": null,
   "id": "135c6791",
   "metadata": {},
   "outputs": [],
   "source": []
  },
  {
   "cell_type": "code",
   "execution_count": null,
   "id": "d7a122fd",
   "metadata": {},
   "outputs": [],
   "source": []
  },
  {
   "cell_type": "code",
   "execution_count": 59,
   "id": "d16aed43",
   "metadata": {},
   "outputs": [
    {
     "name": "stdout",
     "output_type": "stream",
     "text": [
      "eğitim verisi için doğruluk oranı:  1.0\n",
      "\n",
      "\n",
      "test verisi için doğruluk:  0.51\n",
      "Precision: 1.0\n",
      "Recall: 1.0\n",
      "Precision-test: 0.45962732919254656\n",
      "Recall-test 0.5522388059701493\n",
      "0.5016949152542374\n",
      "1.0\n"
     ]
    }
   ],
   "source": [
    "import xgboost \n",
    "\n",
    "xgb = xgboost.XGBClassifier(eval_metric = \"logloss\",use_label_encoder=False)\n",
    "xgb.fit(x_train_std,y_train1)\n",
    "pred = xgb.predict(x_test_std)\n",
    "pred1= xgb.predict(x_train_std)\n",
    "\n",
    "print('eğitim verisi için doğruluk oranı: ',accuracy_score(pred1,y_train1))\n",
    "print('\\n')\n",
    "print('test verisi için doğruluk: ',accuracy_score(pred,y_test1))\n",
    "\n",
    "print(\"Precision:\", precision_score(pred1,y_train1))\n",
    "print(\"Recall:\",recall_score(pred1,y_train1))\n",
    "\n",
    "print(\"Precision-test:\", precision_score(pred,y_test1))\n",
    "print(\"Recall-test\",recall_score(pred,y_test1))\n",
    "\n",
    "print(f1_score(pred,y_test1))\n",
    "print(f1_score(pred1,y_train1))      \n",
    "\n",
    "\n",
    "\n"
   ]
  },
  {
   "cell_type": "code",
   "execution_count": 40,
   "id": "0e398193",
   "metadata": {},
   "outputs": [
    {
     "data": {
      "text/plain": [
       "<AxesSubplot:>"
      ]
     },
     "execution_count": 40,
     "metadata": {},
     "output_type": "execute_result"
    },
    {
     "data": {
      "image/png": "[encoded data removed]",
      "text/plain": [
       "<Figure size 432x288 with 2 Axes>"
      ]
     },
     "metadata": {
      "needs_background": "light"
     },
     "output_type": "display_data"
    }
   ],
   "source": [
    "cm = confusion_matrix(y_test1,pred)\n",
    "sn.heatmap(cm,annot=True,fmt=\"d\")"
   ]
  },
  {
   "cell_type": "code",
   "execution_count": 43,
   "id": "3e703020",
   "metadata": {},
   "outputs": [
    {
     "data": {
      "text/plain": [
       "<AxesSubplot:>"
      ]
     },
     "execution_count": 43,
     "metadata": {},
     "output_type": "execute_result"
    },
    {
     "data": {
      "image/png": "[encoded data removed]",
      "text/plain": [
       "<Figure size 432x288 with 2 Axes>"
      ]
     },
     "metadata": {
      "needs_background": "light"
     },
     "output_type": "display_data"
    }
   ],
   "source": [
    "cm = confusion_matrix(pred1,y_train1)\n",
    "sn.heatmap(cm,annot=True,fmt=\"d\")"
   ]
  },
  {
   "cell_type": "markdown",
   "id": "bc4d1d2f",
   "metadata": {},
   "source": [
    "# XGB parametre optimizasyonu"
   ]
  },
  {
   "cell_type": "code",
   "execution_count": 44,
   "id": "f4c2e55e",
   "metadata": {},
   "outputs": [
    {
     "name": "stdout",
     "output_type": "stream",
     "text": [
      "Fitting 10 folds for each of 100 candidates, totalling 1000 fits\n"
     ]
    }
   ],
   "source": [
    "from sklearn.model_selection import GridSearchCV\n",
    "parametre={'n_estimators':[100,200,250,300,400],'max_depth':[3,5,6,7,2],\n",
    "           'learning_rate':[0.01,0.05,0.1,0.5]}\n",
    "\n",
    "model11 = xgboost.XGBClassifier(eval_metric = \"logloss\",use_label_encoder=False)\n",
    "yeni_model=GridSearchCV(model11,cv=10,param_grid=parametre, verbose = 1, n_jobs = -1)\n",
    "\n",
    "yeni_model.fit(x_train_std,y_train1)\n",
    "pred = yeni_model.predict(x_test_std)\n",
    "pred1= yeni_model.predict(x_train_std)"
   ]
  },
  {
   "cell_type": "code",
   "execution_count": 45,
   "id": "d107a8f0",
   "metadata": {},
   "outputs": [
    {
     "name": "stdout",
     "output_type": "stream",
     "text": [
      "en iyi parametreler {'learning_rate': 0.01, 'max_depth': 3, 'n_estimators': 100}\n"
     ]
    }
   ],
   "source": [
    "best_parameters = yeni_model.best_params_\n",
    "print('en iyi parametreler', best_parameters)"
   ]
  },
  {
   "cell_type": "code",
   "execution_count": 46,
   "id": "eed0aaf2",
   "metadata": {},
   "outputs": [
    {
     "name": "stdout",
     "output_type": "stream",
     "text": [
      "eğitim verisi için doğruluk oranı:  0.6757142857142857\n",
      "\n",
      "\n",
      "test verisi için doğruluk:  0.49333333333333335\n",
      "Precision: 0.6863905325443787\n",
      "Recall: 0.6572237960339944\n",
      "Precision-test: 0.4782608695652174\n",
      "Recall-test 0.5310344827586206\n"
     ]
    },
    {
     "data": {
      "text/plain": [
       "0.6714905933429811"
      ]
     },
     "execution_count": 46,
     "metadata": {},
     "output_type": "execute_result"
    }
   ],
   "source": [
    "print('eğitim verisi için doğruluk oranı: ',accuracy_score(pred1,y_train1))\n",
    "print('\\n')\n",
    "print('test verisi için doğruluk: ',accuracy_score(pred,y_test1))\n",
    "\n",
    "print(\"Precision:\", precision_score(pred1,y_train1))\n",
    "print(\"Recall:\",recall_score(pred1,y_train1))\n",
    "\n",
    "print(\"Precision-test:\", precision_score(pred,y_test1))\n",
    "print(\"Recall-test\",recall_score(pred,y_test1))\n",
    "\n",
    "f1_score(pred,y_test1)\n",
    "f1_score(pred1,y_train1)      \n"
   ]
  },
  {
   "cell_type": "code",
   "execution_count": 47,
   "id": "ddc9fc9d",
   "metadata": {},
   "outputs": [
    {
     "data": {
      "text/plain": [
       "<AxesSubplot:>"
      ]
     },
     "execution_count": 47,
     "metadata": {},
     "output_type": "execute_result"
    },
    {
     "data": {
      "image/png": "[encoded data removed]",
      "text/plain": [
       "<Figure size 432x288 with 2 Axes>"
      ]
     },
     "metadata": {
      "needs_background": "light"
     },
     "output_type": "display_data"
    }
   ],
   "source": [
    "cm = confusion_matrix(pred,y_test1)\n",
    "sn.heatmap(cm,annot=True,fmt=\"d\")"
   ]
  },
  {
   "cell_type": "code",
   "execution_count": 48,
   "id": "cfe4342b",
   "metadata": {},
   "outputs": [
    {
     "data": {
      "text/plain": [
       "<AxesSubplot:>"
      ]
     },
     "execution_count": 48,
     "metadata": {},
     "output_type": "execute_result"
    },
    {
     "data": {
      "image/png": "[encoded data removed]",
      "text/plain": [
       "<Figure size 432x288 with 2 Axes>"
      ]
     },
     "metadata": {
      "needs_background": "light"
     },
     "output_type": "display_data"
    }
   ],
   "source": [
    "cm = confusion_matrix(pred1,y_train1)\n",
    "sn.heatmap(cm,annot=True,fmt=\"d\")"
   ]
  },
  {
   "cell_type": "markdown",
   "id": "07035574",
   "metadata": {},
   "source": [
    "aşırı öğrenme problemini giderdik ama modelin test tahmin sonuçları hala düşük"
   ]
  },
  {
   "cell_type": "code",
   "execution_count": null,
   "id": "ec5b2641",
   "metadata": {},
   "outputs": [],
   "source": []
  },
  {
   "cell_type": "code",
   "execution_count": null,
   "id": "b38ff9b3",
   "metadata": {},
   "outputs": [],
   "source": []
  },
  {
   "cell_type": "code",
   "execution_count": null,
   "id": "ad491f8e",
   "metadata": {},
   "outputs": [],
   "source": []
  },
  {
   "cell_type": "code",
   "execution_count": null,
   "id": "9a99703a",
   "metadata": {},
   "outputs": [],
   "source": []
  },
  {
   "cell_type": "code",
   "execution_count": null,
   "id": "f28aa538",
   "metadata": {},
   "outputs": [],
   "source": []
  },
  {
   "cell_type": "code",
   "execution_count": null,
   "id": "dd96e8c9",
   "metadata": {},
   "outputs": [],
   "source": []
  },
  {
   "cell_type": "code",
   "execution_count": null,
   "id": "260177b4",
   "metadata": {},
   "outputs": [],
   "source": []
  },
  {
   "cell_type": "markdown",
   "id": "da75bab6",
   "metadata": {},
   "source": [
    "# Regresyon ile Quantity Tahmini"
   ]
  },
  {
   "cell_type": "code",
   "execution_count": null,
   "id": "63bae6a7",
   "metadata": {},
   "outputs": [],
   "source": [
    "inputs.head()"
   ]
  },
  {
   "cell_type": "code",
   "execution_count": 36,
   "id": "01201629",
   "metadata": {},
   "outputs": [
    {
     "data": {
      "text/html": [
       "<div>\n",
       "<style scoped>\n",
       "    .dataframe tbody tr th:only-of-type {\n",
       "        vertical-align: middle;\n",
       "    }\n",
       "\n",
       "    .dataframe tbody tr th {\n",
       "        vertical-align: top;\n",
       "    }\n",
       "\n",
       "    .dataframe thead th {\n",
       "        text-align: right;\n",
       "    }\n",
       "</style>\n",
       "<table border=\"1\" class=\"dataframe\">\n",
       "  <thead>\n",
       "    <tr style=\"text-align: right;\">\n",
       "      <th></th>\n",
       "      <th>Customer type</th>\n",
       "      <th>Gender</th>\n",
       "      <th>Unit price</th>\n",
       "      <th>Total</th>\n",
       "      <th>COGS</th>\n",
       "      <th>Gross Margin Precentage</th>\n",
       "      <th>Gross Income</th>\n",
       "      <th>Rating</th>\n",
       "      <th>x0_Electronic accessories</th>\n",
       "      <th>x0_Fashion accessories</th>\n",
       "      <th>x0_Food and beverages</th>\n",
       "      <th>x0_Health and beauty</th>\n",
       "      <th>x0_Home and lifestyle</th>\n",
       "      <th>x0_Sports and travel</th>\n",
       "      <th>x1_A</th>\n",
       "      <th>x1_B</th>\n",
       "      <th>x1_C</th>\n",
       "      <th>x2_Cash</th>\n",
       "      <th>x2_Credit card</th>\n",
       "      <th>x2_Ewallet</th>\n",
       "    </tr>\n",
       "  </thead>\n",
       "  <tbody>\n",
       "    <tr>\n",
       "      <th>0</th>\n",
       "      <td>1</td>\n",
       "      <td>1</td>\n",
       "      <td>72.61</td>\n",
       "      <td>457.443</td>\n",
       "      <td>435.66</td>\n",
       "      <td>4.761905</td>\n",
       "      <td>21.783</td>\n",
       "      <td>6.9</td>\n",
       "      <td>0.0</td>\n",
       "      <td>0.0</td>\n",
       "      <td>0.0</td>\n",
       "      <td>0.0</td>\n",
       "      <td>0.0</td>\n",
       "      <td>1.0</td>\n",
       "      <td>1.0</td>\n",
       "      <td>0.0</td>\n",
       "      <td>0.0</td>\n",
       "      <td>0.0</td>\n",
       "      <td>1.0</td>\n",
       "      <td>0.0</td>\n",
       "    </tr>\n",
       "    <tr>\n",
       "      <th>1</th>\n",
       "      <td>0</td>\n",
       "      <td>1</td>\n",
       "      <td>47.59</td>\n",
       "      <td>399.756</td>\n",
       "      <td>380.72</td>\n",
       "      <td>4.761905</td>\n",
       "      <td>19.036</td>\n",
       "      <td>5.7</td>\n",
       "      <td>0.0</td>\n",
       "      <td>0.0</td>\n",
       "      <td>0.0</td>\n",
       "      <td>0.0</td>\n",
       "      <td>1.0</td>\n",
       "      <td>0.0</td>\n",
       "      <td>1.0</td>\n",
       "      <td>0.0</td>\n",
       "      <td>0.0</td>\n",
       "      <td>1.0</td>\n",
       "      <td>0.0</td>\n",
       "      <td>0.0</td>\n",
       "    </tr>\n",
       "    <tr>\n",
       "      <th>2</th>\n",
       "      <td>1</td>\n",
       "      <td>0</td>\n",
       "      <td>74.71</td>\n",
       "      <td>470.673</td>\n",
       "      <td>448.26</td>\n",
       "      <td>4.761905</td>\n",
       "      <td>22.413</td>\n",
       "      <td>6.7</td>\n",
       "      <td>1.0</td>\n",
       "      <td>0.0</td>\n",
       "      <td>0.0</td>\n",
       "      <td>0.0</td>\n",
       "      <td>0.0</td>\n",
       "      <td>0.0</td>\n",
       "      <td>0.0</td>\n",
       "      <td>1.0</td>\n",
       "      <td>0.0</td>\n",
       "      <td>1.0</td>\n",
       "      <td>0.0</td>\n",
       "      <td>0.0</td>\n",
       "    </tr>\n",
       "    <tr>\n",
       "      <th>3</th>\n",
       "      <td>0</td>\n",
       "      <td>0</td>\n",
       "      <td>36.98</td>\n",
       "      <td>388.290</td>\n",
       "      <td>369.80</td>\n",
       "      <td>4.761905</td>\n",
       "      <td>18.490</td>\n",
       "      <td>7.0</td>\n",
       "      <td>0.0</td>\n",
       "      <td>0.0</td>\n",
       "      <td>0.0</td>\n",
       "      <td>0.0</td>\n",
       "      <td>0.0</td>\n",
       "      <td>1.0</td>\n",
       "      <td>0.0</td>\n",
       "      <td>0.0</td>\n",
       "      <td>1.0</td>\n",
       "      <td>0.0</td>\n",
       "      <td>1.0</td>\n",
       "      <td>0.0</td>\n",
       "    </tr>\n",
       "  </tbody>\n",
       "</table>\n",
       "</div>"
      ],
      "text/plain": [
       "   Customer type  Gender  Unit price    Total    COGS  \\\n",
       "0              1       1       72.61  457.443  435.66   \n",
       "1              0       1       47.59  399.756  380.72   \n",
       "2              1       0       74.71  470.673  448.26   \n",
       "3              0       0       36.98  388.290  369.80   \n",
       "\n",
       "   Gross Margin Precentage  Gross Income  Rating  x0_Electronic accessories  \\\n",
       "0                 4.761905        21.783     6.9                        0.0   \n",
       "1                 4.761905        19.036     5.7                        0.0   \n",
       "2                 4.761905        22.413     6.7                        1.0   \n",
       "3                 4.761905        18.490     7.0                        0.0   \n",
       "\n",
       "   x0_Fashion accessories  x0_Food and beverages  x0_Health and beauty  \\\n",
       "0                     0.0                    0.0                   0.0   \n",
       "1                     0.0                    0.0                   0.0   \n",
       "2                     0.0                    0.0                   0.0   \n",
       "3                     0.0                    0.0                   0.0   \n",
       "\n",
       "   x0_Home and lifestyle  x0_Sports and travel  x1_A  x1_B  x1_C  x2_Cash  \\\n",
       "0                    0.0                   1.0   1.0   0.0   0.0      0.0   \n",
       "1                    1.0                   0.0   1.0   0.0   0.0      1.0   \n",
       "2                    0.0                   0.0   0.0   1.0   0.0      1.0   \n",
       "3                    0.0                   1.0   0.0   0.0   1.0      0.0   \n",
       "\n",
       "   x2_Credit card  x2_Ewallet  \n",
       "0             1.0         0.0  \n",
       "1             0.0         0.0  \n",
       "2             0.0         0.0  \n",
       "3             1.0         0.0  "
      ]
     },
     "execution_count": 36,
     "metadata": {},
     "output_type": "execute_result"
    }
   ],
   "source": [
    "inputs4=inputs.copy() \n",
    "inputs4.drop(columns=['Quantity'],inplace=True)\n",
    "inputs4.head(4)\n"
   ]
  },
  {
   "cell_type": "code",
   "execution_count": 37,
   "id": "3a56554e",
   "metadata": {},
   "outputs": [
    {
     "data": {
      "text/plain": [
       "(1000, 20)"
      ]
     },
     "execution_count": 37,
     "metadata": {},
     "output_type": "execute_result"
    }
   ],
   "source": [
    "inputs4.shape\n"
   ]
  },
  {
   "cell_type": "code",
   "execution_count": null,
   "id": "6d64620b",
   "metadata": {},
   "outputs": [],
   "source": []
  },
  {
   "cell_type": "code",
   "execution_count": null,
   "id": "8cfa66d9",
   "metadata": {},
   "outputs": [],
   "source": []
  },
  {
   "cell_type": "code",
   "execution_count": null,
   "id": "6ebf2c8d",
   "metadata": {},
   "outputs": [],
   "source": [
    "\n"
   ]
  },
  {
   "cell_type": "code",
   "execution_count": 38,
   "id": "cffc9870",
   "metadata": {},
   "outputs": [
    {
     "data": {
      "text/plain": [
       "0     6\n",
       "1     8\n",
       "2     6\n",
       "3    10\n",
       "Name: Quantity, dtype: int64"
      ]
     },
     "execution_count": 38,
     "metadata": {},
     "output_type": "execute_result"
    }
   ],
   "source": [
    "x2 = inputs4.iloc[:,0:20]\n",
    "y2 = inputs.iloc[:,3]\n",
    "y2.head(4)"
   ]
  },
  {
   "cell_type": "code",
   "execution_count": 40,
   "id": "e47c7f7a",
   "metadata": {},
   "outputs": [],
   "source": [
    "x_train2, x_test2, y_train2, y_test2 = train_test_split(x2, y2, test_size=0.3, random_state=0)\n",
    "scale.fit(x_train2)\n",
    "x_train_std2=scale.transform(x_train2)\n",
    "x_test_std2=scale.transform(x_test2)\n",
    "\n"
   ]
  },
  {
   "cell_type": "code",
   "execution_count": 63,
   "id": "f93b9409",
   "metadata": {},
   "outputs": [
    {
     "name": "stdout",
     "output_type": "stream",
     "text": [
      "R-kare (eğitim): 0.9751\n",
      "R-kare (test): 0.9539\n",
      "\n",
      "MSE-Eğitim: 0.213\n",
      "MSE-Test: 0.391\n",
      "MAE -Test: 0.443\n",
      "MAE -Eğitim: 0.340\n"
     ]
    }
   ],
   "source": [
    "from sklearn.ensemble import RandomForestRegressor\n",
    "from sklearn.metrics import mean_squared_error, r2_score\n",
    "rf6= RandomForestRegressor(max_depth=5,n_estimators=300, min_samples_leaf=10,min_samples_split=10)\n",
    "rf6.fit(x_train_std2,y_train2)\n",
    "\n",
    "pre_train2=rf6.predict(x_train_std2)\n",
    "pre_test2= rf6.predict(x_test_std2)\n",
    "\n",
    "\n",
    "\n",
    "print('R-kare (eğitim): %.4f' % r2_score(y_train2, pre_train2))   \n",
    "print('R-kare (test): %.4f\\n' % r2_score(y_test2, pre_test2))\n",
    "print(\"MSE-Eğitim: %.3f\"      % mean_squared_error(y_train2, pre_train2))\n",
    "print(\"MSE-Test: %.3f\"      % mean_squared_error(y_test2, pre_test2))\n",
    "print(\"MAE -Test: %.3f\" % mean_absolute_error(y_test2, pre_test2))\n",
    "print(\"MAE -Eğitim: %.3f\" % mean_absolute_error(y_train2, pre_train2))\n"
   ]
  },
  {
   "cell_type": "code",
   "execution_count": 65,
   "id": "e7d6e990",
   "metadata": {},
   "outputs": [
    {
     "data": {
      "text/plain": [
       "count    700.000000\n",
       "mean       5.480000\n",
       "std        2.927038\n",
       "min        1.000000\n",
       "25%        3.000000\n",
       "50%        5.000000\n",
       "75%        8.000000\n",
       "max       10.000000\n",
       "Name: Quantity, dtype: float64"
      ]
     },
     "execution_count": 65,
     "metadata": {},
     "output_type": "execute_result"
    }
   ],
   "source": [
    "y_train2.describe()\n"
   ]
  },
  {
   "cell_type": "code",
   "execution_count": 66,
   "id": "e1f3b727",
   "metadata": {},
   "outputs": [
    {
     "data": {
      "text/plain": [
       "count    300.000000\n",
       "mean       5.580000\n",
       "std        2.918675\n",
       "min        1.000000\n",
       "25%        3.000000\n",
       "50%        6.000000\n",
       "75%        8.000000\n",
       "max       10.000000\n",
       "Name: Quantity, dtype: float64"
      ]
     },
     "execution_count": 66,
     "metadata": {},
     "output_type": "execute_result"
    }
   ],
   "source": [
    "y_test2.describe()"
   ]
  },
  {
   "cell_type": "code",
   "execution_count": 67,
   "id": "0f8a7d59",
   "metadata": {},
   "outputs": [
    {
     "name": "stderr",
     "output_type": "stream",
     "text": [
      "C:\\Users\\vatan_2i0ol45\\anaconda3\\lib\\site-packages\\sklearn\\neural_network\\_multilayer_perceptron.py:614: ConvergenceWarning: Stochastic Optimizer: Maximum iterations (200) reached and the optimization hasn't converged yet.\n",
      "  warnings.warn(\n"
     ]
    },
    {
     "data": {
      "text/plain": [
       "MLPRegressor()"
      ]
     },
     "execution_count": 67,
     "metadata": {},
     "output_type": "execute_result"
    }
   ],
   "source": [
    "from sklearn.neural_network import MLPRegressor\n",
    "\n",
    "\n",
    "mlp2 = MLPRegressor()\n",
    "mlp2.fit(x_train_std2,y_train2)\n"
   ]
  },
  {
   "cell_type": "code",
   "execution_count": null,
   "id": "2b60ab08",
   "metadata": {},
   "outputs": [],
   "source": []
  },
  {
   "cell_type": "code",
   "execution_count": 68,
   "id": "1618879e",
   "metadata": {},
   "outputs": [
    {
     "name": "stdout",
     "output_type": "stream",
     "text": [
      "R-kare (eğitim): 0.9560\n",
      "R-kare (test): 0.9238\n",
      "\n",
      "MSE-Eğitim: 0.377\n",
      "MSE-Test: 0.647\n",
      "MAE -Test: 0.584\n",
      "MAE -Eğitim: 0.435\n"
     ]
    }
   ],
   "source": [
    "from sklearn.metrics import mean_absolute_error\n",
    "pre_train1=mlp2.predict(x_train_std2)\n",
    "pre_test1= mlp2.predict(x_test_std2)\n",
    "\n",
    "print('R-kare (eğitim): %.4f' % r2_score(y_train2, pre_train1))   \n",
    "print('R-kare (test): %.4f\\n' % r2_score(y_test2, pre_test1))\n",
    "print(\"MSE-Eğitim: %.3f\"      % mean_squared_error(y_train2, pre_train1))\n",
    "print(\"MSE-Test: %.3f\"      % mean_squared_error(y_test2, pre_test1))\n",
    "print(\"MAE -Test: %.3f\" % mean_absolute_error(y_test2, pre_test1))\n",
    "print(\"MAE -Eğitim: %.3f\" % mean_absolute_error(y_train2, pre_train1))\n"
   ]
  },
  {
   "cell_type": "code",
   "execution_count": 69,
   "id": "248a2b87",
   "metadata": {},
   "outputs": [
    {
     "data": {
      "text/plain": [
       "count    700.000000\n",
       "mean       5.480000\n",
       "std        2.927038\n",
       "min        1.000000\n",
       "25%        3.000000\n",
       "50%        5.000000\n",
       "75%        8.000000\n",
       "max       10.000000\n",
       "Name: Quantity, dtype: float64"
      ]
     },
     "execution_count": 69,
     "metadata": {},
     "output_type": "execute_result"
    }
   ],
   "source": [
    "y_train2.describe()"
   ]
  },
  {
   "cell_type": "code",
   "execution_count": 70,
   "id": "4fe76c0f",
   "metadata": {},
   "outputs": [
    {
     "data": {
      "text/plain": [
       "count    300.000000\n",
       "mean       5.580000\n",
       "std        2.918675\n",
       "min        1.000000\n",
       "25%        3.000000\n",
       "50%        6.000000\n",
       "75%        8.000000\n",
       "max       10.000000\n",
       "Name: Quantity, dtype: float64"
      ]
     },
     "execution_count": 70,
     "metadata": {},
     "output_type": "execute_result"
    }
   ],
   "source": [
    "y_test2.describe()"
   ]
  },
  {
   "cell_type": "code",
   "execution_count": 71,
   "id": "434d6f78",
   "metadata": {},
   "outputs": [
    {
     "data": {
      "text/plain": [
       "XGBRegressor(base_score=0.5, booster='gbtree', colsample_bylevel=1,\n",
       "             colsample_bynode=1, colsample_bytree=1, gamma=0, gpu_id=-1,\n",
       "             importance_type='gain', interaction_constraints='',\n",
       "             learning_rate=0.300000012, max_delta_step=0, max_depth=6,\n",
       "             min_child_weight=1, missing=nan, monotone_constraints='()',\n",
       "             n_estimators=100, n_jobs=8, num_parallel_tree=1, random_state=0,\n",
       "             reg_alpha=0, reg_lambda=1, scale_pos_weight=1, subsample=1,\n",
       "             tree_method='exact', validate_parameters=1, verbosity=None)"
      ]
     },
     "execution_count": 71,
     "metadata": {},
     "output_type": "execute_result"
    }
   ],
   "source": [
    "import xgboost\n",
    "\n",
    "xgb22 = xgboost.XGBRegressor()\n",
    "xgb22.fit(x_train2,y_train2)"
   ]
  },
  {
   "cell_type": "code",
   "execution_count": 72,
   "id": "cdfe7ed9",
   "metadata": {},
   "outputs": [
    {
     "name": "stdout",
     "output_type": "stream",
     "text": [
      "R-kare (eğitim): 1.0000\n",
      "R-kare (test): 0.9901\n",
      "\n",
      "MSE-Eğitim: 0.000\n",
      "MSE-Test: 0.084\n",
      "MAE -Test: 0.187\n",
      "MAE -Eğitim: 0.005\n"
     ]
    }
   ],
   "source": [
    "pre_train21=xgb22.predict(x_train2)\n",
    "pre_test22= xgb22.predict(x_test2)\n",
    "\n",
    "print('R-kare (eğitim): %.4f' % r2_score(y_train2, pre_train21))   \n",
    "print('R-kare (test): %.4f\\n' % r2_score(y_test2, pre_test22))\n",
    "\n",
    "print(\"MSE-Eğitim: %.3f\"      % mean_squared_error(y_train2, pre_train21))\n",
    "print(\"MSE-Test: %.3f\"      % mean_squared_error(y_test2, pre_test22))\n",
    "print(\"MAE -Test: %.3f\" % mean_absolute_error(y_test2, pre_test22))\n",
    "print(\"MAE -Eğitim: %.3f\" % mean_absolute_error(y_train2, pre_train21))\n"
   ]
  },
  {
   "cell_type": "code",
   "execution_count": null,
   "id": "7107b340",
   "metadata": {},
   "outputs": [],
   "source": []
  },
  {
   "cell_type": "code",
   "execution_count": 1,
   "id": "357062d7",
   "metadata": {},
   "outputs": [],
   "source": [
    "from sklearn.model_selection import GridSearchCV\n",
    "parametre22={'n_estimators':[100,200,250,300,400],'max_depth':[12,10,8],\n",
    "           'learning_rate':[0.01,0.05,0.1,0.5]}\n",
    "\n",
    "model22 = xgboost.XGBRegressor(eval_metric = \"logloss\",use_label_encoder=False)\n",
    "yeni_model22=GridSearchCV(model22,cv=10,param_grid=parametre22, verbose = 1, n_jobs = -1)\n",
    "\n",
    "yeni_model22.fit(x_train_std2,y_train2)\n",
    "predic= yeni_model22.predict(x_test_std2)\n",
    "predic1= yeni_model22.predict(x_train_std2)"
   ]
  },
  {
   "cell_type": "code",
   "execution_count": null,
   "id": "08184390",
   "metadata": {},
   "outputs": [],
   "source": [
    "best_parameters22 = yeni_model22.best_params_\n",
    "print('en iyi parametreler', best_parameters22)"
   ]
  },
  {
   "cell_type": "code",
   "execution_count": 53,
   "id": "d47364ab",
   "metadata": {},
   "outputs": [
    {
     "name": "stdout",
     "output_type": "stream",
     "text": [
      "R-kare (eğitim): 1.0000\n",
      "R-kare (test): 0.9920\n",
      "\n",
      "MSE-Eğitim: 0.000\n",
      "MSE-Test: 0.068\n"
     ]
    }
   ],
   "source": [
    "print('R-kare (eğitim): %.4f' % r2_score(y_train2, predic1))   \n",
    "print('R-kare (test): %.4f\\n' % r2_score(y_test2, predic))\n",
    "\n",
    "print(\"MSE-Eğitim: %.3f\"      % mean_squared_error(y_train2, predic1))\n",
    "print(\"MSE-Test: %.3f\"      % mean_squared_error(y_test2, predic))\n",
    "print(\"MAE -Test: %.3f\" % mean_absolute_error(y_test2, predic))\n",
    "print(\"MAE -Eğitim: %.3f\" % mean_absolute_error(y_train2, predic1))\n"
   ]
  },
  {
   "cell_type": "code",
   "execution_count": null,
   "id": "63eb6440",
   "metadata": {},
   "outputs": [],
   "source": []
  },
  {
   "cell_type": "code",
   "execution_count": null,
   "id": "75e3f698",
   "metadata": {},
   "outputs": [],
   "source": []
  },
  {
   "cell_type": "code",
   "execution_count": null,
   "id": "8fe29381",
   "metadata": {},
   "outputs": [],
   "source": []
  },
  {
   "cell_type": "code",
   "execution_count": null,
   "id": "b306ce4a",
   "metadata": {},
   "outputs": [],
   "source": []
  },
  {
   "cell_type": "code",
   "execution_count": null,
   "id": "e04efbc3",
   "metadata": {},
   "outputs": [],
   "source": []
  },
  {
   "cell_type": "code",
   "execution_count": null,
   "id": "c8ea11d9",
   "metadata": {},
   "outputs": [],
   "source": []
  },
  {
   "cell_type": "code",
   "execution_count": null,
   "id": "3f670207",
   "metadata": {},
   "outputs": [],
   "source": []
  },
  {
   "cell_type": "code",
   "execution_count": null,
   "id": "fa2cb6c7",
   "metadata": {},
   "outputs": [],
   "source": [
    "\n"
   ]
  },
  {
   "cell_type": "code",
   "execution_count": null,
   "id": "53d75be0",
   "metadata": {},
   "outputs": [],
   "source": []
  },
  {
   "cell_type": "code",
   "execution_count": null,
   "id": "55a38e85",
   "metadata": {},
   "outputs": [],
   "source": [
    " "
   ]
  },
  {
   "cell_type": "code",
   "execution_count": null,
   "id": "5df8f21a",
   "metadata": {},
   "outputs": [],
   "source": []
  },
  {
   "cell_type": "code",
   "execution_count": null,
   "id": "61d5f199",
   "metadata": {},
   "outputs": [],
   "source": []
  },
  {
   "cell_type": "code",
   "execution_count": null,
   "id": "fad42b1f",
   "metadata": {},
   "outputs": [],
   "source": []
  },
  {
   "cell_type": "code",
   "execution_count": null,
   "id": "313e1599",
   "metadata": {},
   "outputs": [],
   "source": []
  },
  {
   "cell_type": "code",
   "execution_count": null,
   "id": "3c9f5b9b",
   "metadata": {},
   "outputs": [],
   "source": []
  },
  {
   "cell_type": "code",
   "execution_count": null,
   "id": "8b7e51dd",
   "metadata": {},
   "outputs": [],
   "source": []
  },
  {
   "cell_type": "code",
   "execution_count": null,
   "id": "5c45662b",
   "metadata": {},
   "outputs": [],
   "source": []
  },
  {
   "cell_type": "code",
   "execution_count": null,
   "id": "5c1f5ea1",
   "metadata": {},
   "outputs": [],
   "source": []
  },
  {
   "cell_type": "code",
   "execution_count": null,
   "id": "ae28cfb7",
   "metadata": {},
   "outputs": [],
   "source": []
  },
  {
   "cell_type": "code",
   "execution_count": null,
   "id": "c76b6253",
   "metadata": {},
   "outputs": [],
   "source": []
  },
  {
   "cell_type": "code",
   "execution_count": null,
   "id": "177f5672",
   "metadata": {},
   "outputs": [],
   "source": []
  },
  {
   "cell_type": "code",
   "execution_count": null,
   "id": "fe97b265",
   "metadata": {
    "scrolled": true
   },
   "outputs": [],
   "source": []
  },
  {
   "cell_type": "code",
   "execution_count": null,
   "id": "0463a8f8",
   "metadata": {},
   "outputs": [],
   "source": []
  }
 ],
 "metadata": {
  "kernelspec": {
   "display_name": "Python 3",
   "language": "python",
   "name": "python3"
  },
  "language_info": {
   "codemirror_mode": {
    "name": "ipython",
    "version": 3
   },
   "file_extension": ".py",
   "mimetype": "text/x-python",
   "name": "python",
   "nbconvert_exporter": "python",
   "pygments_lexer": "ipython3",
   "version": "3.8.8"
  }
 },
 "nbformat": 4,
 "nbformat_minor": 5
}
